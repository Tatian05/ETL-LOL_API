{
 "cells": [
  {
   "cell_type": "code",
   "execution_count": 1,
   "metadata": {},
   "outputs": [],
   "source": [
    "import pandas as pd\n",
    "import os\n",
    "import requests\n",
    "import boto3\n",
    "from utils import *\n",
    "import datetime"
   ]
  },
  {
   "cell_type": "markdown",
   "metadata": {},
   "source": [
    "**EXTRACTION**"
   ]
  },
  {
   "cell_type": "markdown",
   "metadata": {},
   "source": [
    "GET SUMMONER PUUID BY SUMMONER NAME AND TAGLINE"
   ]
  },
  {
   "cell_type": "code",
   "execution_count": 2,
   "metadata": {},
   "outputs": [
    {
     "data": {
      "text/html": [
       "<div>\n",
       "<style scoped>\n",
       "    .dataframe tbody tr th:only-of-type {\n",
       "        vertical-align: middle;\n",
       "    }\n",
       "\n",
       "    .dataframe tbody tr th {\n",
       "        vertical-align: top;\n",
       "    }\n",
       "\n",
       "    .dataframe thead th {\n",
       "        text-align: right;\n",
       "    }\n",
       "</style>\n",
       "<table border=\"1\" class=\"dataframe\">\n",
       "  <thead>\n",
       "    <tr style=\"text-align: right;\">\n",
       "      <th></th>\n",
       "      <th>puuid</th>\n",
       "      <th>gameName</th>\n",
       "      <th>tagLine</th>\n",
       "    </tr>\n",
       "  </thead>\n",
       "  <tbody>\n",
       "    <tr>\n",
       "      <th>0</th>\n",
       "      <td>rybLSc_KZF6-IQ8HCLMML90_kvd00YLW5DE0ruoXGgZF2P...</td>\n",
       "      <td>TATIAN</td>\n",
       "      <td>LAS</td>\n",
       "    </tr>\n",
       "  </tbody>\n",
       "</table>\n",
       "</div>"
      ],
      "text/plain": [
       "                                               puuid gameName tagLine\n",
       "0  rybLSc_KZF6-IQ8HCLMML90_kvd00YLW5DE0ruoXGgZF2P...   TATIAN     LAS"
      ]
     },
     "execution_count": 2,
     "metadata": {},
     "output_type": "execute_result"
    }
   ],
   "source": [
    "api_key = os.environ.get(\"ETL-LOL_API\")\n",
    "\n",
    "summ_name = \"TATIAN\"\n",
    "tag_line = \"LAS\"\n",
    "\n",
    "params = {\n",
    "    'api_key': api_key\n",
    "}\n",
    "\n",
    "servers = {\n",
    "    'AMERICAS': 'americas.api.riotgames.com',\n",
    "    'ASIA': 'asia.api.riotgames.com',\n",
    "    'EUROPE': 'europe.api.riotgames.com',   \n",
    "    'SEA': 'sea.api.riotgames.com'\n",
    "}\n",
    "\n",
    "endpoint = f\"https://americas.api.riotgames.com/riot/account/v1/accounts/by-riot-id/{summ_name}/{tag_line}\"\n",
    "\n",
    "res = requests.get(endpoint, params= params)\n",
    "data = res.json()\n",
    "\n",
    "puuid = data['puuid']\n",
    "\n",
    "df_summoner = pd.json_normalize(data)\n",
    "\n",
    "df_summoner"
   ]
  },
  {
   "cell_type": "markdown",
   "metadata": {},
   "source": [
    "GET SUMMONER DATA BY PUUID"
   ]
  },
  {
   "cell_type": "code",
   "execution_count": 3,
   "metadata": {},
   "outputs": [
    {
     "data": {
      "text/html": [
       "<div>\n",
       "<style scoped>\n",
       "    .dataframe tbody tr th:only-of-type {\n",
       "        vertical-align: middle;\n",
       "    }\n",
       "\n",
       "    .dataframe tbody tr th {\n",
       "        vertical-align: top;\n",
       "    }\n",
       "\n",
       "    .dataframe thead th {\n",
       "        text-align: right;\n",
       "    }\n",
       "</style>\n",
       "<table border=\"1\" class=\"dataframe\">\n",
       "  <thead>\n",
       "    <tr style=\"text-align: right;\">\n",
       "      <th></th>\n",
       "      <th>puuid</th>\n",
       "      <th>gameName</th>\n",
       "      <th>tagLine</th>\n",
       "      <th>id</th>\n",
       "      <th>accountId</th>\n",
       "      <th>revisionDate</th>\n",
       "      <th>summonerLevel</th>\n",
       "    </tr>\n",
       "  </thead>\n",
       "  <tbody>\n",
       "    <tr>\n",
       "      <th>0</th>\n",
       "      <td>rybLSc_KZF6-IQ8HCLMML90_kvd00YLW5DE0ruoXGgZF2P...</td>\n",
       "      <td>TATIAN</td>\n",
       "      <td>LAS</td>\n",
       "      <td>lJDYoZSk-rtpKy1UnGV65cDlknAvnLOq8uvnGRFFCjIwHw</td>\n",
       "      <td>3SsoFKJ2HArAyEROZF7-cn0zHxd1m-rxRYxt9MScpr1oaME</td>\n",
       "      <td>1731213102000</td>\n",
       "      <td>362</td>\n",
       "    </tr>\n",
       "  </tbody>\n",
       "</table>\n",
       "</div>"
      ],
      "text/plain": [
       "                                               puuid gameName tagLine  \\\n",
       "0  rybLSc_KZF6-IQ8HCLMML90_kvd00YLW5DE0ruoXGgZF2P...   TATIAN     LAS   \n",
       "\n",
       "                                               id  \\\n",
       "0  lJDYoZSk-rtpKy1UnGV65cDlknAvnLOq8uvnGRFFCjIwHw   \n",
       "\n",
       "                                         accountId   revisionDate  \\\n",
       "0  3SsoFKJ2HArAyEROZF7-cn0zHxd1m-rxRYxt9MScpr1oaME  1731213102000   \n",
       "\n",
       "   summonerLevel  \n",
       "0            362  "
      ]
     },
     "execution_count": 3,
     "metadata": {},
     "output_type": "execute_result"
    }
   ],
   "source": [
    "endpoint = f\"https://la2.api.riotgames.com/lol/summoner/v4/summoners/by-puuid/{puuid}\"\n",
    "\n",
    "res = requests.get(endpoint, params=params)\n",
    "data = dict(res.json())\n",
    "\n",
    "summ_id = data['id']\n",
    "\n",
    "data.pop('puuid')\n",
    "\n",
    "df_summoner = pd.concat([df_summoner, pd.json_normalize(data)], axis=1)\n",
    "\n",
    "df_summoner = df_summoner.drop(columns=['profileIconId'])\n",
    "\n",
    "df_summoner"
   ]
  },
  {
   "cell_type": "markdown",
   "metadata": {},
   "source": [
    "GET CHAMPIONS LIST"
   ]
  },
  {
   "cell_type": "code",
   "execution_count": 4,
   "metadata": {},
   "outputs": [
    {
     "data": {
      "text/html": [
       "<div>\n",
       "<style scoped>\n",
       "    .dataframe tbody tr th:only-of-type {\n",
       "        vertical-align: middle;\n",
       "    }\n",
       "\n",
       "    .dataframe tbody tr th {\n",
       "        vertical-align: top;\n",
       "    }\n",
       "\n",
       "    .dataframe thead th {\n",
       "        text-align: right;\n",
       "    }\n",
       "</style>\n",
       "<table border=\"1\" class=\"dataframe\">\n",
       "  <thead>\n",
       "    <tr style=\"text-align: right;\">\n",
       "      <th></th>\n",
       "      <th>version</th>\n",
       "      <th>id</th>\n",
       "      <th>key</th>\n",
       "      <th>name</th>\n",
       "      <th>title</th>\n",
       "      <th>blurb</th>\n",
       "      <th>info</th>\n",
       "      <th>image</th>\n",
       "      <th>tags</th>\n",
       "      <th>partype</th>\n",
       "      <th>stats</th>\n",
       "    </tr>\n",
       "  </thead>\n",
       "  <tbody>\n",
       "    <tr>\n",
       "      <th>Aatrox</th>\n",
       "      <td>14.22.1</td>\n",
       "      <td>Aatrox</td>\n",
       "      <td>266</td>\n",
       "      <td>Aatrox</td>\n",
       "      <td>the Darkin Blade</td>\n",
       "      <td>Once honored defenders of Shurima against the ...</td>\n",
       "      <td>{'attack': 8, 'defense': 4, 'magic': 3, 'diffi...</td>\n",
       "      <td>{'full': 'Aatrox.png', 'sprite': 'champion0.pn...</td>\n",
       "      <td>[Fighter]</td>\n",
       "      <td>Blood Well</td>\n",
       "      <td>{'hp': 650, 'hpperlevel': 114, 'mp': 0, 'mpper...</td>\n",
       "    </tr>\n",
       "  </tbody>\n",
       "</table>\n",
       "</div>"
      ],
      "text/plain": [
       "        version      id  key    name             title  \\\n",
       "Aatrox  14.22.1  Aatrox  266  Aatrox  the Darkin Blade   \n",
       "\n",
       "                                                    blurb  \\\n",
       "Aatrox  Once honored defenders of Shurima against the ...   \n",
       "\n",
       "                                                     info  \\\n",
       "Aatrox  {'attack': 8, 'defense': 4, 'magic': 3, 'diffi...   \n",
       "\n",
       "                                                    image       tags  \\\n",
       "Aatrox  {'full': 'Aatrox.png', 'sprite': 'champion0.pn...  [Fighter]   \n",
       "\n",
       "           partype                                              stats  \n",
       "Aatrox  Blood Well  {'hp': 650, 'hpperlevel': 114, 'mp': 0, 'mpper...  "
      ]
     },
     "execution_count": 4,
     "metadata": {},
     "output_type": "execute_result"
    }
   ],
   "source": [
    "champions_endpoint = \"https://ddragon.leagueoflegends.com/cdn/14.22.1/data/en_US/champion.json\"\n",
    "\n",
    "data = requests.get(champions_endpoint).json()\n",
    "\n",
    "df_champions = pd.DataFrame(data['data'])\n",
    "\n",
    "df_champions = df_champions.T\n",
    "\n",
    "df_champions.head(1)"
   ]
  },
  {
   "cell_type": "markdown",
   "metadata": {},
   "source": [
    "GET MASTERY CHAMPIONS BY SUMMONER PUUID"
   ]
  },
  {
   "cell_type": "code",
   "execution_count": 5,
   "metadata": {},
   "outputs": [
    {
     "data": {
      "text/html": [
       "<div>\n",
       "<style scoped>\n",
       "    .dataframe tbody tr th:only-of-type {\n",
       "        vertical-align: middle;\n",
       "    }\n",
       "\n",
       "    .dataframe tbody tr th {\n",
       "        vertical-align: top;\n",
       "    }\n",
       "\n",
       "    .dataframe thead th {\n",
       "        text-align: right;\n",
       "    }\n",
       "</style>\n",
       "<table border=\"1\" class=\"dataframe\">\n",
       "  <thead>\n",
       "    <tr style=\"text-align: right;\">\n",
       "      <th></th>\n",
       "      <th>puuid</th>\n",
       "      <th>championId</th>\n",
       "      <th>championLevel</th>\n",
       "      <th>championPoints</th>\n",
       "      <th>lastPlayTime</th>\n",
       "      <th>championPointsSinceLastLevel</th>\n",
       "      <th>championPointsUntilNextLevel</th>\n",
       "      <th>markRequiredForNextLevel</th>\n",
       "      <th>tokensEarned</th>\n",
       "      <th>championSeasonMilestone</th>\n",
       "      <th>nextSeasonMilestone.requireGradeCounts.B-</th>\n",
       "      <th>nextSeasonMilestone.requireGradeCounts.C-</th>\n",
       "      <th>nextSeasonMilestone.rewardMarks</th>\n",
       "      <th>nextSeasonMilestone.bonus</th>\n",
       "      <th>nextSeasonMilestone.rewardConfig.rewardValue</th>\n",
       "      <th>nextSeasonMilestone.rewardConfig.rewardType</th>\n",
       "      <th>nextSeasonMilestone.rewardConfig.maximumReward</th>\n",
       "      <th>nextSeasonMilestone.totalGamesRequires</th>\n",
       "      <th>milestoneGrades</th>\n",
       "      <th>nextSeasonMilestone.requireGradeCounts.A-</th>\n",
       "    </tr>\n",
       "  </thead>\n",
       "  <tbody>\n",
       "    <tr>\n",
       "      <th>0</th>\n",
       "      <td>rybLSc_KZF6-IQ8HCLMML90_kvd00YLW5DE0ruoXGgZF2P...</td>\n",
       "      <td>64</td>\n",
       "      <td>32</td>\n",
       "      <td>372982</td>\n",
       "      <td>1717130755000</td>\n",
       "      <td>55382</td>\n",
       "      <td>-44382</td>\n",
       "      <td>2</td>\n",
       "      <td>0</td>\n",
       "      <td>0</td>\n",
       "      <td>1.0</td>\n",
       "      <td>4</td>\n",
       "      <td>1</td>\n",
       "      <td>False</td>\n",
       "      <td>5f4333db-e90d-4705-903b-08dbf5e61006</td>\n",
       "      <td>HEXTECH_CHEST</td>\n",
       "      <td>6.0</td>\n",
       "      <td>5</td>\n",
       "      <td>NaN</td>\n",
       "      <td>NaN</td>\n",
       "    </tr>\n",
       "  </tbody>\n",
       "</table>\n",
       "</div>"
      ],
      "text/plain": [
       "                                               puuid  championId  \\\n",
       "0  rybLSc_KZF6-IQ8HCLMML90_kvd00YLW5DE0ruoXGgZF2P...          64   \n",
       "\n",
       "   championLevel  championPoints   lastPlayTime  championPointsSinceLastLevel  \\\n",
       "0             32          372982  1717130755000                         55382   \n",
       "\n",
       "   championPointsUntilNextLevel  markRequiredForNextLevel  tokensEarned  \\\n",
       "0                        -44382                         2             0   \n",
       "\n",
       "   championSeasonMilestone  nextSeasonMilestone.requireGradeCounts.B-  \\\n",
       "0                        0                                        1.0   \n",
       "\n",
       "   nextSeasonMilestone.requireGradeCounts.C-  nextSeasonMilestone.rewardMarks  \\\n",
       "0                                          4                                1   \n",
       "\n",
       "   nextSeasonMilestone.bonus nextSeasonMilestone.rewardConfig.rewardValue  \\\n",
       "0                      False         5f4333db-e90d-4705-903b-08dbf5e61006   \n",
       "\n",
       "  nextSeasonMilestone.rewardConfig.rewardType  \\\n",
       "0                               HEXTECH_CHEST   \n",
       "\n",
       "   nextSeasonMilestone.rewardConfig.maximumReward  \\\n",
       "0                                             6.0   \n",
       "\n",
       "   nextSeasonMilestone.totalGamesRequires milestoneGrades  \\\n",
       "0                                       5             NaN   \n",
       "\n",
       "   nextSeasonMilestone.requireGradeCounts.A-  \n",
       "0                                        NaN  "
      ]
     },
     "execution_count": 5,
     "metadata": {},
     "output_type": "execute_result"
    }
   ],
   "source": [
    "endpoint = f\"https://la2.api.riotgames.com/lol/champion-mastery/v4/champion-masteries/by-puuid/{puuid}\"\n",
    "\n",
    "res = requests.get(endpoint, params=params)\n",
    "data = res.json()\n",
    "\n",
    "df_champions_mastery = pd.json_normalize(data)\n",
    "\n",
    "df_champions_mastery.head(1)\n"
   ]
  },
  {
   "cell_type": "markdown",
   "metadata": {},
   "source": [
    "GET THE LAST 20 MATCHES:\n",
    "1- FIRST I GET THE MATCHES IDs.\n",
    "2- SINCE FROM THOSE IDs, I CAN GET MATCHES DATA "
   ]
  },
  {
   "cell_type": "code",
   "execution_count": 6,
   "metadata": {},
   "outputs": [
    {
     "data": {
      "text/html": [
       "<div>\n",
       "<style scoped>\n",
       "    .dataframe tbody tr th:only-of-type {\n",
       "        vertical-align: middle;\n",
       "    }\n",
       "\n",
       "    .dataframe tbody tr th {\n",
       "        vertical-align: top;\n",
       "    }\n",
       "\n",
       "    .dataframe thead th {\n",
       "        text-align: right;\n",
       "    }\n",
       "</style>\n",
       "<table border=\"1\" class=\"dataframe\">\n",
       "  <thead>\n",
       "    <tr style=\"text-align: right;\">\n",
       "      <th></th>\n",
       "      <th>metadata.dataVersion</th>\n",
       "      <th>metadata.matchId</th>\n",
       "      <th>metadata.participants</th>\n",
       "      <th>info.endOfGameResult</th>\n",
       "      <th>info.gameCreation</th>\n",
       "      <th>info.gameDuration</th>\n",
       "      <th>info.gameEndTimestamp</th>\n",
       "      <th>info.gameId</th>\n",
       "      <th>info.gameMode</th>\n",
       "      <th>info.gameName</th>\n",
       "      <th>info.gameStartTimestamp</th>\n",
       "      <th>info.gameType</th>\n",
       "      <th>info.gameVersion</th>\n",
       "      <th>info.mapId</th>\n",
       "      <th>info.participants</th>\n",
       "      <th>info.platformId</th>\n",
       "      <th>info.queueId</th>\n",
       "      <th>info.teams</th>\n",
       "      <th>info.tournamentCode</th>\n",
       "    </tr>\n",
       "  </thead>\n",
       "  <tbody>\n",
       "    <tr>\n",
       "      <th>0</th>\n",
       "      <td>2</td>\n",
       "      <td>LA2_1460246484</td>\n",
       "      <td>[lmY9N2GCcOkNkiEn2FCEcUSbMx0njx137z_JYJ70BjGq5...</td>\n",
       "      <td>GameComplete</td>\n",
       "      <td>1731212021831</td>\n",
       "      <td>971</td>\n",
       "      <td>1731213098902</td>\n",
       "      <td>1460246484</td>\n",
       "      <td>CLASSIC</td>\n",
       "      <td>teambuilder-match-1460246484</td>\n",
       "      <td>1731212127539</td>\n",
       "      <td>MATCHED_GAME</td>\n",
       "      <td>14.22.633.1362</td>\n",
       "      <td>11</td>\n",
       "      <td>[{'allInPings': 0, 'assistMePings': 1, 'assist...</td>\n",
       "      <td>LA2</td>\n",
       "      <td>420</td>\n",
       "      <td>[{'bans': [{'championId': 910, 'pickTurn': 1},...</td>\n",
       "      <td></td>\n",
       "    </tr>\n",
       "  </tbody>\n",
       "</table>\n",
       "</div>"
      ],
      "text/plain": [
       "  metadata.dataVersion metadata.matchId  \\\n",
       "0                    2   LA2_1460246484   \n",
       "\n",
       "                               metadata.participants info.endOfGameResult  \\\n",
       "0  [lmY9N2GCcOkNkiEn2FCEcUSbMx0njx137z_JYJ70BjGq5...         GameComplete   \n",
       "\n",
       "   info.gameCreation  info.gameDuration  info.gameEndTimestamp  info.gameId  \\\n",
       "0      1731212021831                971          1731213098902   1460246484   \n",
       "\n",
       "  info.gameMode                 info.gameName  info.gameStartTimestamp  \\\n",
       "0       CLASSIC  teambuilder-match-1460246484            1731212127539   \n",
       "\n",
       "  info.gameType info.gameVersion  info.mapId  \\\n",
       "0  MATCHED_GAME   14.22.633.1362          11   \n",
       "\n",
       "                                   info.participants info.platformId  \\\n",
       "0  [{'allInPings': 0, 'assistMePings': 1, 'assist...             LA2   \n",
       "\n",
       "   info.queueId                                         info.teams  \\\n",
       "0           420  [{'bans': [{'championId': 910, 'pickTurn': 1},...   \n",
       "\n",
       "  info.tournamentCode  \n",
       "0                      "
      ]
     },
     "execution_count": 6,
     "metadata": {},
     "output_type": "execute_result"
    }
   ],
   "source": [
    "endpoint = f\"https://americas.api.riotgames.com/lol/match/v5/matches/by-puuid/{puuid}/ids\"\n",
    "\n",
    "res = requests.get(endpoint, params=params)\n",
    "matches_id = res.json()\n",
    "\n",
    "matches_id\n",
    "\n",
    "matches = []\n",
    "for matchId in matches_id:\n",
    "    endpoint = f\"https://americas.api.riotgames.com/lol/match/v5/matches/{matchId}\"\n",
    "    \n",
    "    res = requests.get(endpoint, params=params)\n",
    "    matches.append(res.json())\n",
    "    \n",
    "df_matches = pd.json_normalize(matches)\n",
    "\n",
    "df_matches.head(1)"
   ]
  },
  {
   "cell_type": "markdown",
   "metadata": {},
   "source": [
    "GET MATCHES TIMELINE"
   ]
  },
  {
   "cell_type": "code",
   "execution_count": 7,
   "metadata": {},
   "outputs": [
    {
     "data": {
      "text/html": [
       "<div>\n",
       "<style scoped>\n",
       "    .dataframe tbody tr th:only-of-type {\n",
       "        vertical-align: middle;\n",
       "    }\n",
       "\n",
       "    .dataframe tbody tr th {\n",
       "        vertical-align: top;\n",
       "    }\n",
       "\n",
       "    .dataframe thead th {\n",
       "        text-align: right;\n",
       "    }\n",
       "</style>\n",
       "<table border=\"1\" class=\"dataframe\">\n",
       "  <thead>\n",
       "    <tr style=\"text-align: right;\">\n",
       "      <th></th>\n",
       "      <th>metadata.dataVersion</th>\n",
       "      <th>metadata.matchId</th>\n",
       "      <th>metadata.participants</th>\n",
       "      <th>info.endOfGameResult</th>\n",
       "      <th>info.frameInterval</th>\n",
       "      <th>info.frames</th>\n",
       "      <th>info.gameId</th>\n",
       "      <th>info.participants</th>\n",
       "    </tr>\n",
       "  </thead>\n",
       "  <tbody>\n",
       "    <tr>\n",
       "      <th>0</th>\n",
       "      <td>2</td>\n",
       "      <td>LA2_1460246484</td>\n",
       "      <td>[lmY9N2GCcOkNkiEn2FCEcUSbMx0njx137z_JYJ70BjGq5...</td>\n",
       "      <td>GameComplete</td>\n",
       "      <td>60000</td>\n",
       "      <td>[{'events': [{'realTimestamp': 1731212127400, ...</td>\n",
       "      <td>1460246484</td>\n",
       "      <td>[{'participantId': 1, 'puuid': 'lmY9N2GCcOkNki...</td>\n",
       "    </tr>\n",
       "  </tbody>\n",
       "</table>\n",
       "</div>"
      ],
      "text/plain": [
       "  metadata.dataVersion metadata.matchId  \\\n",
       "0                    2   LA2_1460246484   \n",
       "\n",
       "                               metadata.participants info.endOfGameResult  \\\n",
       "0  [lmY9N2GCcOkNkiEn2FCEcUSbMx0njx137z_JYJ70BjGq5...         GameComplete   \n",
       "\n",
       "   info.frameInterval                                        info.frames  \\\n",
       "0               60000  [{'events': [{'realTimestamp': 1731212127400, ...   \n",
       "\n",
       "   info.gameId                                  info.participants  \n",
       "0   1460246484  [{'participantId': 1, 'puuid': 'lmY9N2GCcOkNki...  "
      ]
     },
     "execution_count": 7,
     "metadata": {},
     "output_type": "execute_result"
    }
   ],
   "source": [
    "data = []\n",
    "for matchId in matches_id:\n",
    "    endpoint = f\"https://americas.api.riotgames.com/lol/match/v5/matches/{matchId}/timeline\"\n",
    "    \n",
    "    res = requests.get(endpoint, params=params)\n",
    "    data.append(res.json())\n",
    "    \n",
    "df_matches_timeline = pd.json_normalize(data)\n",
    "df_matches_timeline.head(1)"
   ]
  },
  {
   "cell_type": "markdown",
   "metadata": {},
   "source": [
    "GET SUMMONER RANKING BY SUMMONER ID"
   ]
  },
  {
   "cell_type": "code",
   "execution_count": 8,
   "metadata": {},
   "outputs": [
    {
     "data": {
      "text/html": [
       "<div>\n",
       "<style scoped>\n",
       "    .dataframe tbody tr th:only-of-type {\n",
       "        vertical-align: middle;\n",
       "    }\n",
       "\n",
       "    .dataframe tbody tr th {\n",
       "        vertical-align: top;\n",
       "    }\n",
       "\n",
       "    .dataframe thead th {\n",
       "        text-align: right;\n",
       "    }\n",
       "</style>\n",
       "<table border=\"1\" class=\"dataframe\">\n",
       "  <thead>\n",
       "    <tr style=\"text-align: right;\">\n",
       "      <th></th>\n",
       "      <th>leagueId</th>\n",
       "      <th>queueType</th>\n",
       "      <th>tier</th>\n",
       "      <th>rank</th>\n",
       "      <th>summonerId</th>\n",
       "      <th>leaguePoints</th>\n",
       "      <th>wins</th>\n",
       "      <th>losses</th>\n",
       "      <th>veteran</th>\n",
       "      <th>inactive</th>\n",
       "      <th>freshBlood</th>\n",
       "      <th>hotStreak</th>\n",
       "    </tr>\n",
       "  </thead>\n",
       "  <tbody>\n",
       "    <tr>\n",
       "      <th>0</th>\n",
       "      <td>6d220f29-c66d-4999-8bee-fc750c55fb2e</td>\n",
       "      <td>RANKED_SOLO_5x5</td>\n",
       "      <td>PLATINUM</td>\n",
       "      <td>III</td>\n",
       "      <td>lJDYoZSk-rtpKy1UnGV65cDlknAvnLOq8uvnGRFFCjIwHw</td>\n",
       "      <td>60</td>\n",
       "      <td>6</td>\n",
       "      <td>3</td>\n",
       "      <td>False</td>\n",
       "      <td>False</td>\n",
       "      <td>False</td>\n",
       "      <td>False</td>\n",
       "    </tr>\n",
       "    <tr>\n",
       "      <th>1</th>\n",
       "      <td>67df7375-00af-4a4f-9282-761ec6d3ca50</td>\n",
       "      <td>RANKED_FLEX_SR</td>\n",
       "      <td>EMERALD</td>\n",
       "      <td>IV</td>\n",
       "      <td>lJDYoZSk-rtpKy1UnGV65cDlknAvnLOq8uvnGRFFCjIwHw</td>\n",
       "      <td>71</td>\n",
       "      <td>4</td>\n",
       "      <td>7</td>\n",
       "      <td>False</td>\n",
       "      <td>False</td>\n",
       "      <td>False</td>\n",
       "      <td>False</td>\n",
       "    </tr>\n",
       "  </tbody>\n",
       "</table>\n",
       "</div>"
      ],
      "text/plain": [
       "                               leagueId        queueType      tier rank  \\\n",
       "0  6d220f29-c66d-4999-8bee-fc750c55fb2e  RANKED_SOLO_5x5  PLATINUM  III   \n",
       "1  67df7375-00af-4a4f-9282-761ec6d3ca50   RANKED_FLEX_SR   EMERALD   IV   \n",
       "\n",
       "                                       summonerId  leaguePoints  wins  losses  \\\n",
       "0  lJDYoZSk-rtpKy1UnGV65cDlknAvnLOq8uvnGRFFCjIwHw            60     6       3   \n",
       "1  lJDYoZSk-rtpKy1UnGV65cDlknAvnLOq8uvnGRFFCjIwHw            71     4       7   \n",
       "\n",
       "   veteran  inactive  freshBlood  hotStreak  \n",
       "0    False     False       False      False  \n",
       "1    False     False       False      False  "
      ]
     },
     "execution_count": 8,
     "metadata": {},
     "output_type": "execute_result"
    }
   ],
   "source": [
    "endpoint = f\"https://la2.api.riotgames.com/lol/league/v4/entries/by-summoner/{summ_id}\"\n",
    "\n",
    "res = requests.get(endpoint, params=params)\n",
    "\n",
    "data = res.json()\n",
    "\n",
    "df_ranking = pd.json_normalize(data)\n",
    "\n",
    "df_ranking"
   ]
  },
  {
   "cell_type": "markdown",
   "metadata": {},
   "source": [
    "**LOAD RAW DATA TO DATA LAKE (S3)**"
   ]
  },
  {
   "cell_type": "markdown",
   "metadata": {},
   "source": [
    "CREATING S3 CLIENT"
   ]
  },
  {
   "cell_type": "code",
   "execution_count": 12,
   "metadata": {},
   "outputs": [],
   "source": [
    "s3_client = boto3.client('s3', region_name='us-east-1')"
   ]
  },
  {
   "cell_type": "markdown",
   "metadata": {},
   "source": [
    "CREATING BUCKET"
   ]
  },
  {
   "cell_type": "code",
   "execution_count": 18,
   "metadata": {},
   "outputs": [
    {
     "data": {
      "text/plain": [
       "{'ResponseMetadata': {'RequestId': 'C8PJYRDTTAQWJGSE',\n",
       "  'HostId': 'i4eX0rp7iLnYXdhw9g7wTieWQJoBb39a9pshims7Pzc+0JKdrs21S8LFTdl9ivOCyAq5ChLCI/0O4/2nX+mjsQ==',\n",
       "  'HTTPStatusCode': 200,\n",
       "  'HTTPHeaders': {'x-amz-id-2': 'i4eX0rp7iLnYXdhw9g7wTieWQJoBb39a9pshims7Pzc+0JKdrs21S8LFTdl9ivOCyAq5ChLCI/0O4/2nX+mjsQ==',\n",
       "   'x-amz-request-id': 'C8PJYRDTTAQWJGSE',\n",
       "   'date': 'Tue, 19 Nov 2024 20:18:55 GMT',\n",
       "   'location': '/mylolapibucket1',\n",
       "   'content-length': '0',\n",
       "   'server': 'AmazonS3'},\n",
       "  'RetryAttempts': 0},\n",
       " 'Location': '/mylolapibucket1'}"
      ]
     },
     "execution_count": 18,
     "metadata": {},
     "output_type": "execute_result"
    }
   ],
   "source": [
    "#CREATING A BUCKET\n",
    "s3_client.create_bucket(ACL='private', Bucket='mylolapibucket1')"
   ]
  },
  {
   "cell_type": "markdown",
   "metadata": {},
   "source": [
    "LOADING DATA"
   ]
  },
  {
   "cell_type": "code",
   "execution_count": 19,
   "metadata": {},
   "outputs": [],
   "source": [
    "#PATH\n",
    "s3_path = f\"lol_data/{datetime.date.today().strftime(\"%Y-%m-%d\")}\"\n",
    "\n",
    "upload_dataframe_to_s3(s3_client, df_summoner, f\"{s3_path}/summoner.csv\", \"mylolapibucket1\")\n",
    "upload_dataframe_to_s3(s3_client, df_ranking, f\"{s3_path}/ranking.csv\", \"mylolapibucket1\")\n",
    "upload_dataframe_to_s3(s3_client, df_champions, f\"{s3_path}/champions.csv\", \"mylolapibucket1\")\n",
    "upload_dataframe_to_s3(s3_client, df_champions_mastery, f\"{s3_path}/champions_mastery.csv\", \"mylolapibucket1\")\n",
    "upload_dataframe_to_s3(s3_client, df_matches, f\"{s3_path}/matches.csv\", \"mylolapibucket1\")\n",
    "upload_dataframe_to_s3(s3_client, df_matches_timeline, f\"{s3_path}/matches_timeline.csv\", \"mylolapibucket1\")"
   ]
  },
  {
   "cell_type": "markdown",
   "metadata": {},
   "source": [
    "**TRANSFORMATION**"
   ]
  },
  {
   "cell_type": "code",
   "execution_count": 161,
   "metadata": {},
   "outputs": [],
   "source": [
    "from pyspark.sql import SparkSession\n",
    "from pyspark.conf import SparkConf\n",
    "from pyspark.sql.types import IntegerType, StringType, StructField, StructType, MapType, ArrayType\n",
    "from pyspark.sql.functions import col, lit, from_unixtime, explode, from_json, concat_ws\n",
    "import findspark"
   ]
  },
  {
   "cell_type": "markdown",
   "metadata": {},
   "source": [
    "CREATING SPARK SESSION"
   ]
  },
  {
   "cell_type": "code",
   "execution_count": null,
   "metadata": {},
   "outputs": [],
   "source": [
    "findspark.init()\n",
    "spark_session = SparkSession.builder.appName(\"LOL_API_MODERN_DATAWAREHOUSE\").getOrCreate()"
   ]
  },
  {
   "cell_type": "markdown",
   "metadata": {},
   "source": [
    "GETTING CSV FROM DATA LAKE (S3)"
   ]
  },
  {
   "cell_type": "code",
   "execution_count": 20,
   "metadata": {},
   "outputs": [],
   "source": [
    "#NOT WORK - Py4JJavaError\n",
    "#df_champions_spark = spark_session.read.csv(f's3a://mylolapibucket1/{s3_path}/df_champions.csv')\n",
    "\n",
    "df_summoner_spark = spark_session.read.csv(download_files_from_s3(s3_client, 'mylolapibucket1', f\"{s3_path}/summoner.csv\"), header=True)\n",
    "df_ranking_spark = spark_session.read.csv(download_files_from_s3(s3_client, 'mylolapibucket1', f\"{s3_path}/ranking.csv\"), header=True)\n",
    "df_champions_spark = spark_session.read.csv(download_files_from_s3(s3_client, 'mylolapibucket1', f\"{s3_path}/champions.csv\"), header=True)\n",
    "df_champions_mastery_spark = spark_session.read.csv(download_files_from_s3(s3_client, 'mylolapibucket1', f\"{s3_path}/champions_mastery.csv\"), header=True)\n",
    "df_matches_spark = spark_session.read.csv(download_files_from_s3(s3_client, 'mylolapibucket1', f\"{s3_path}/matches.csv\"), header=True)\n",
    "df_matches_timeline_spark = spark_session.read.csv(download_files_from_s3(s3_client, 'mylolapibucket1', f\"{s3_path}/matches_timeline.csv\"), header=True)"
   ]
  },
  {
   "cell_type": "markdown",
   "metadata": {},
   "source": [
    "SUMMONER TRANSFORM"
   ]
  },
  {
   "cell_type": "code",
   "execution_count": 167,
   "metadata": {},
   "outputs": [
    {
     "name": "stdout",
     "output_type": "stream",
     "text": [
      "+--------------------+--------+-------+--------------------+--------------------+------------+-------------+--------------------+---------------+--------+----+------------+----+------+-------+--------+----------+---------+\n",
      "|               puuid|gameName|tagLine|          summonerId|           accountId|revisionDate|summonerLevel|            leagueId|      queueType|    tier|rank|leaguePoints|wins|losses|veteran|inactive|freshBlood|hotStreak|\n",
      "+--------------------+--------+-------+--------------------+--------------------+------------+-------------+--------------------+---------------+--------+----+------------+----+------+-------+--------+----------+---------+\n",
      "|rybLSc_KZF6-IQ8HC...|  TATIAN|    LAS|lJDYoZSk-rtpKy1Un...|3SsoFKJ2HArAyEROZ...|  2024-11-10|          362|6d220f29-c66d-499...|RANKED_SOLO_5x5|PLATINUM| III|          60|   6|     3|  False|   False|     False|    False|\n",
      "|rybLSc_KZF6-IQ8HC...|  TATIAN|    LAS|lJDYoZSk-rtpKy1Un...|3SsoFKJ2HArAyEROZ...|  2024-11-10|          362|67df7375-00af-4a4...| RANKED_FLEX_SR| EMERALD|  IV|          71|   4|     7|  False|   False|     False|    False|\n",
      "+--------------------+--------+-------+--------------------+--------------------+------------+-------------+--------------------+---------------+--------+----+------------+----+------+-------+--------+----------+---------+\n",
      "\n"
     ]
    }
   ],
   "source": [
    "#JOIN SUMMONER DF AND RANKING DF\n",
    "df_summoner_spark = df_summoner_spark.join(df_ranking_spark, on=df_summoner_spark['id'] == df_ranking_spark['summonerId'])\n",
    "\n",
    "#CONVERT UNIX TIMESTAMP TO DATE\n",
    "df_summoner_spark = df_summoner_spark.withColumn(\"revisionDate\", from_unixtime(col(\"revisionDate\") / 1000).cast(\"date\"))\n",
    "\n",
    "#DELETE REPEAT COLUMNS\n",
    "df_summoner_spark = df_summoner_spark.drop(\"summonerId\")\n",
    "\n",
    "df_summoner_spark = df_summoner_spark.withColumnRenamed(\"id\", \"summonerId\")\n",
    "\n",
    "df_summoner_spark.show()"
   ]
  },
  {
   "cell_type": "markdown",
   "metadata": {},
   "source": [
    "CHAMPIONS TRANSFORM"
   ]
  },
  {
   "cell_type": "code",
   "execution_count": null,
   "metadata": {},
   "outputs": [],
   "source": [
    "#CONVER THE TYPE OF 'INFO' AND STATS COLUMNS\n",
    "df_champions_spark = df_champions_spark.withColumn(\"info\", from_json(col(\"info\"), schema=MapType(StringType(), IntegerType())))\n",
    "df_champions_spark = df_champions_spark.withColumn(\"stats\", from_json(col(\"stats\"), schema=MapType(StringType(), FloatType())))\n",
    "df_champions_spark = df_champions_spark.withColumn(\"tags\", from_json(col(\"tags\"), schema=ArrayType(StringType())))\n",
    "\n",
    "df_champions_spark = df_champions_spark.withColumn(\"tags\", concat_ws(\", \", col(\"tags\")))\n",
    "\n",
    "#EXPLODE INFO FIELD\n",
    "df_champions_spark = df_champions_spark.select(\"*\",\n",
    "                                                 col(\"info.attack\").alias(\"attack\"),\n",
    "                                                 col(\"info.defense\").alias(\"defense\"),\n",
    "                                                 col(\"info.magic\").alias(\"magic\"),\n",
    "                                                 col(\"info.difficulty\").alias(\"difficulty\"))\n",
    "\n",
    "#EXPLODE STATS FIELD - IT WILL BE AN INDEPENDENT TABLE\n",
    "df_champions_stats = df_champions_spark.select(col(\"stats.hp\").alias(\"hp\"),\n",
    "                                                  col(\"stats.hpperlevel\").alias(\"hpPerLevel\"),\n",
    "                                                  col(\"stats.mp\").alias(\"mp\"),\n",
    "                                                  col(\"stats.mpperlevel\").alias(\"mpPerLevel\"),\n",
    "                                                  col(\"stats.movespeed\").alias(\"moveSpeed\"),\n",
    "                                                  col(\"stats.armor\").alias(\"armor\"),\n",
    "                                                  col(\"stats.armorperlevel\").alias(\"armorPerLevel\"),\n",
    "                                                  col(\"stats.spellblock\").alias(\"spellBlock\"),\n",
    "                                                  col(\"stats.spellblockperlevel\").alias(\"spellBlockPerLevel\"),\n",
    "                                                  col(\"stats.attackrange\").alias(\"attackRange\"),\n",
    "                                                  col(\"stats.hpregen\").alias(\"hpRegen\"),\n",
    "                                                  col(\"stats.hpregenperlevel\").alias(\"hpRegenPerLevel\"),\n",
    "                                                  col(\"stats.mpregen\").alias(\"mpRegen\"),\n",
    "                                                  col(\"stats.mpregenperlevel\").alias(\"mpRegenPerLevel\"),\n",
    "                                                  col(\"stats.crit\").alias(\"crit\"),\n",
    "                                                  col(\"stats.critperlevel\").alias(\"critPerLevel\"),\n",
    "                                                  col(\"stats.attackdamage\").alias(\"attackDamage\"),\n",
    "                                                  col(\"stats.attackdamageperlevel\").alias(\"attackDamagePerLevel\"),\n",
    "                                                  col(\"stats.attackspeedperlevel\").alias(\"attackSpeedPerLevel\"),\n",
    "                                                  col(\"stats.attackspeed\").alias(\"attackSpeed\"))\n",
    "\n",
    "df_champions_spark = df_champions_spark.drop(\"info\", \"image\", \"stats\")\n",
    "\n",
    "df_champions_spark.show()"
   ]
  }
 ],
 "metadata": {
  "kernelspec": {
   "display_name": "venv",
   "language": "python",
   "name": "python3"
  },
  "language_info": {
   "codemirror_mode": {
    "name": "ipython",
    "version": 3
   },
   "file_extension": ".py",
   "mimetype": "text/x-python",
   "name": "python",
   "nbconvert_exporter": "python",
   "pygments_lexer": "ipython3",
   "version": "3.12.4"
  }
 },
 "nbformat": 4,
 "nbformat_minor": 2
}
