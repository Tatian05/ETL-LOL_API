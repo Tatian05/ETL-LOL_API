{
 "cells": [
  {
   "cell_type": "code",
   "execution_count": 1,
   "metadata": {},
   "outputs": [],
   "source": [
    "import pandas as pd\n",
    "import os\n",
    "import requests\n",
    "import boto3\n",
    "from utils import *\n",
    "import datetime"
   ]
  },
  {
   "cell_type": "markdown",
   "metadata": {},
   "source": [
    "**EXTRACTION**"
   ]
  },
  {
   "cell_type": "markdown",
   "metadata": {},
   "source": [
    "GET SUMMONER PUUID BY SUMMONER NAME AND TAGLINE"
   ]
  },
  {
   "cell_type": "code",
   "execution_count": 2,
   "metadata": {},
   "outputs": [
    {
     "data": {
      "text/html": [
       "<div>\n",
       "<style scoped>\n",
       "    .dataframe tbody tr th:only-of-type {\n",
       "        vertical-align: middle;\n",
       "    }\n",
       "\n",
       "    .dataframe tbody tr th {\n",
       "        vertical-align: top;\n",
       "    }\n",
       "\n",
       "    .dataframe thead th {\n",
       "        text-align: right;\n",
       "    }\n",
       "</style>\n",
       "<table border=\"1\" class=\"dataframe\">\n",
       "  <thead>\n",
       "    <tr style=\"text-align: right;\">\n",
       "      <th></th>\n",
       "      <th>puuid</th>\n",
       "      <th>gameName</th>\n",
       "      <th>tagLine</th>\n",
       "    </tr>\n",
       "  </thead>\n",
       "  <tbody>\n",
       "    <tr>\n",
       "      <th>0</th>\n",
       "      <td>rybLSc_KZF6-IQ8HCLMML90_kvd00YLW5DE0ruoXGgZF2P...</td>\n",
       "      <td>TATIAN</td>\n",
       "      <td>LAS</td>\n",
       "    </tr>\n",
       "  </tbody>\n",
       "</table>\n",
       "</div>"
      ],
      "text/plain": [
       "                                               puuid gameName tagLine\n",
       "0  rybLSc_KZF6-IQ8HCLMML90_kvd00YLW5DE0ruoXGgZF2P...   TATIAN     LAS"
      ]
     },
     "execution_count": 2,
     "metadata": {},
     "output_type": "execute_result"
    }
   ],
   "source": [
    "api_key = os.environ.get(\"ETL-LOL_API\")\n",
    "\n",
    "summ_name = \"TATIAN\"\n",
    "tag_line = \"LAS\"\n",
    "\n",
    "params = {\n",
    "    'api_key': api_key\n",
    "}\n",
    "\n",
    "servers = {\n",
    "    'AMERICAS': 'americas.api.riotgames.com',\n",
    "    'ASIA': 'asia.api.riotgames.com',\n",
    "    'EUROPE': 'europe.api.riotgames.com',   \n",
    "    'SEA': 'sea.api.riotgames.com'\n",
    "}\n",
    "\n",
    "endpoint = f\"https://americas.api.riotgames.com/riot/account/v1/accounts/by-riot-id/{summ_name}/{tag_line}\"\n",
    "\n",
    "res = requests.get(endpoint, params= params)\n",
    "data = res.json()\n",
    "\n",
    "puuid = data['puuid']\n",
    "\n",
    "df_summoner = pd.json_normalize(data)\n",
    "\n",
    "df_summoner"
   ]
  },
  {
   "cell_type": "markdown",
   "metadata": {},
   "source": [
    "GET SUMMONER DATA BY PUUID"
   ]
  },
  {
   "cell_type": "code",
   "execution_count": 318,
   "metadata": {},
   "outputs": [
    {
     "data": {
      "text/html": [
       "<div>\n",
       "<style scoped>\n",
       "    .dataframe tbody tr th:only-of-type {\n",
       "        vertical-align: middle;\n",
       "    }\n",
       "\n",
       "    .dataframe tbody tr th {\n",
       "        vertical-align: top;\n",
       "    }\n",
       "\n",
       "    .dataframe thead th {\n",
       "        text-align: right;\n",
       "    }\n",
       "</style>\n",
       "<table border=\"1\" class=\"dataframe\">\n",
       "  <thead>\n",
       "    <tr style=\"text-align: right;\">\n",
       "      <th></th>\n",
       "      <th>puuid</th>\n",
       "      <th>gameName</th>\n",
       "      <th>tagLine</th>\n",
       "      <th>id</th>\n",
       "      <th>accountId</th>\n",
       "      <th>revisionDate</th>\n",
       "      <th>summonerLevel</th>\n",
       "    </tr>\n",
       "  </thead>\n",
       "  <tbody>\n",
       "    <tr>\n",
       "      <th>0</th>\n",
       "      <td>rybLSc_KZF6-IQ8HCLMML90_kvd00YLW5DE0ruoXGgZF2P...</td>\n",
       "      <td>TATIAN</td>\n",
       "      <td>LAS</td>\n",
       "      <td>lJDYoZSk-rtpKy1UnGV65cDlknAvnLOq8uvnGRFFCjIwHw</td>\n",
       "      <td>3SsoFKJ2HArAyEROZF7-cn0zHxd1m-rxRYxt9MScpr1oaME</td>\n",
       "      <td>1731213102000</td>\n",
       "      <td>362</td>\n",
       "    </tr>\n",
       "  </tbody>\n",
       "</table>\n",
       "</div>"
      ],
      "text/plain": [
       "                                               puuid gameName tagLine  \\\n",
       "0  rybLSc_KZF6-IQ8HCLMML90_kvd00YLW5DE0ruoXGgZF2P...   TATIAN     LAS   \n",
       "\n",
       "                                               id  \\\n",
       "0  lJDYoZSk-rtpKy1UnGV65cDlknAvnLOq8uvnGRFFCjIwHw   \n",
       "\n",
       "                                         accountId   revisionDate  \\\n",
       "0  3SsoFKJ2HArAyEROZF7-cn0zHxd1m-rxRYxt9MScpr1oaME  1731213102000   \n",
       "\n",
       "   summonerLevel  \n",
       "0            362  "
      ]
     },
     "execution_count": 318,
     "metadata": {},
     "output_type": "execute_result"
    }
   ],
   "source": [
    "endpoint = f\"https://la2.api.riotgames.com/lol/summoner/v4/summoners/by-puuid/{puuid}\"\n",
    "\n",
    "res = requests.get(endpoint, params=params)\n",
    "data = dict(res.json())\n",
    "\n",
    "summ_id = data['id']\n",
    "\n",
    "data.pop('puuid')\n",
    "\n",
    "df_summoner = pd.concat([df_summoner, pd.json_normalize(data)], axis=1)\n",
    "\n",
    "df_summoner = df_summoner.drop(columns=['profileIconId'])\n",
    "\n",
    "df_summoner"
   ]
  },
  {
   "cell_type": "markdown",
   "metadata": {},
   "source": [
    "GET CHAMPIONS LIST"
   ]
  },
  {
   "cell_type": "code",
   "execution_count": 319,
   "metadata": {},
   "outputs": [
    {
     "data": {
      "text/html": [
       "<div>\n",
       "<style scoped>\n",
       "    .dataframe tbody tr th:only-of-type {\n",
       "        vertical-align: middle;\n",
       "    }\n",
       "\n",
       "    .dataframe tbody tr th {\n",
       "        vertical-align: top;\n",
       "    }\n",
       "\n",
       "    .dataframe thead th {\n",
       "        text-align: right;\n",
       "    }\n",
       "</style>\n",
       "<table border=\"1\" class=\"dataframe\">\n",
       "  <thead>\n",
       "    <tr style=\"text-align: right;\">\n",
       "      <th></th>\n",
       "      <th>version</th>\n",
       "      <th>id</th>\n",
       "      <th>key</th>\n",
       "      <th>name</th>\n",
       "      <th>title</th>\n",
       "      <th>blurb</th>\n",
       "      <th>info</th>\n",
       "      <th>image</th>\n",
       "      <th>tags</th>\n",
       "      <th>partype</th>\n",
       "      <th>stats</th>\n",
       "    </tr>\n",
       "  </thead>\n",
       "  <tbody>\n",
       "    <tr>\n",
       "      <th>Aatrox</th>\n",
       "      <td>14.22.1</td>\n",
       "      <td>Aatrox</td>\n",
       "      <td>266</td>\n",
       "      <td>Aatrox</td>\n",
       "      <td>the Darkin Blade</td>\n",
       "      <td>Once honored defenders of Shurima against the ...</td>\n",
       "      <td>{'attack': 8, 'defense': 4, 'magic': 3, 'diffi...</td>\n",
       "      <td>{'full': 'Aatrox.png', 'sprite': 'champion0.pn...</td>\n",
       "      <td>[Fighter]</td>\n",
       "      <td>Blood Well</td>\n",
       "      <td>{'hp': 650, 'hpperlevel': 114, 'mp': 0, 'mpper...</td>\n",
       "    </tr>\n",
       "  </tbody>\n",
       "</table>\n",
       "</div>"
      ],
      "text/plain": [
       "        version      id  key    name             title  \\\n",
       "Aatrox  14.22.1  Aatrox  266  Aatrox  the Darkin Blade   \n",
       "\n",
       "                                                    blurb  \\\n",
       "Aatrox  Once honored defenders of Shurima against the ...   \n",
       "\n",
       "                                                     info  \\\n",
       "Aatrox  {'attack': 8, 'defense': 4, 'magic': 3, 'diffi...   \n",
       "\n",
       "                                                    image       tags  \\\n",
       "Aatrox  {'full': 'Aatrox.png', 'sprite': 'champion0.pn...  [Fighter]   \n",
       "\n",
       "           partype                                              stats  \n",
       "Aatrox  Blood Well  {'hp': 650, 'hpperlevel': 114, 'mp': 0, 'mpper...  "
      ]
     },
     "execution_count": 319,
     "metadata": {},
     "output_type": "execute_result"
    }
   ],
   "source": [
    "champions_endpoint = \"https://ddragon.leagueoflegends.com/cdn/14.22.1/data/en_US/champion.json\"\n",
    "\n",
    "data = requests.get(champions_endpoint).json()\n",
    "\n",
    "df_champions = pd.DataFrame(data['data'])\n",
    "\n",
    "df_champions = df_champions.T\n",
    "\n",
    "df_champions.head(1)"
   ]
  },
  {
   "cell_type": "markdown",
   "metadata": {},
   "source": [
    "GET MASTERY CHAMPIONS BY SUMMONER PUUID"
   ]
  },
  {
   "cell_type": "code",
   "execution_count": 320,
   "metadata": {},
   "outputs": [
    {
     "data": {
      "text/html": [
       "<div>\n",
       "<style scoped>\n",
       "    .dataframe tbody tr th:only-of-type {\n",
       "        vertical-align: middle;\n",
       "    }\n",
       "\n",
       "    .dataframe tbody tr th {\n",
       "        vertical-align: top;\n",
       "    }\n",
       "\n",
       "    .dataframe thead th {\n",
       "        text-align: right;\n",
       "    }\n",
       "</style>\n",
       "<table border=\"1\" class=\"dataframe\">\n",
       "  <thead>\n",
       "    <tr style=\"text-align: right;\">\n",
       "      <th></th>\n",
       "      <th>puuid</th>\n",
       "      <th>championId</th>\n",
       "      <th>championLevel</th>\n",
       "      <th>championPoints</th>\n",
       "      <th>lastPlayTime</th>\n",
       "      <th>championPointsSinceLastLevel</th>\n",
       "      <th>championPointsUntilNextLevel</th>\n",
       "      <th>markRequiredForNextLevel</th>\n",
       "      <th>tokensEarned</th>\n",
       "      <th>championSeasonMilestone</th>\n",
       "      <th>nextSeasonMilestone.requireGradeCounts.B-</th>\n",
       "      <th>nextSeasonMilestone.requireGradeCounts.C-</th>\n",
       "      <th>nextSeasonMilestone.rewardMarks</th>\n",
       "      <th>nextSeasonMilestone.bonus</th>\n",
       "      <th>nextSeasonMilestone.rewardConfig.rewardValue</th>\n",
       "      <th>nextSeasonMilestone.rewardConfig.rewardType</th>\n",
       "      <th>nextSeasonMilestone.rewardConfig.maximumReward</th>\n",
       "      <th>nextSeasonMilestone.totalGamesRequires</th>\n",
       "      <th>milestoneGrades</th>\n",
       "      <th>nextSeasonMilestone.requireGradeCounts.A-</th>\n",
       "    </tr>\n",
       "  </thead>\n",
       "  <tbody>\n",
       "    <tr>\n",
       "      <th>0</th>\n",
       "      <td>rybLSc_KZF6-IQ8HCLMML90_kvd00YLW5DE0ruoXGgZF2P...</td>\n",
       "      <td>64</td>\n",
       "      <td>32</td>\n",
       "      <td>372982</td>\n",
       "      <td>1717130755000</td>\n",
       "      <td>55382</td>\n",
       "      <td>-44382</td>\n",
       "      <td>2</td>\n",
       "      <td>0</td>\n",
       "      <td>0</td>\n",
       "      <td>1.0</td>\n",
       "      <td>4</td>\n",
       "      <td>1</td>\n",
       "      <td>False</td>\n",
       "      <td>5f4333db-e90d-4705-903b-08dbf5e61006</td>\n",
       "      <td>HEXTECH_CHEST</td>\n",
       "      <td>6.0</td>\n",
       "      <td>5</td>\n",
       "      <td>NaN</td>\n",
       "      <td>NaN</td>\n",
       "    </tr>\n",
       "  </tbody>\n",
       "</table>\n",
       "</div>"
      ],
      "text/plain": [
       "                                               puuid  championId  \\\n",
       "0  rybLSc_KZF6-IQ8HCLMML90_kvd00YLW5DE0ruoXGgZF2P...          64   \n",
       "\n",
       "   championLevel  championPoints   lastPlayTime  championPointsSinceLastLevel  \\\n",
       "0             32          372982  1717130755000                         55382   \n",
       "\n",
       "   championPointsUntilNextLevel  markRequiredForNextLevel  tokensEarned  \\\n",
       "0                        -44382                         2             0   \n",
       "\n",
       "   championSeasonMilestone  nextSeasonMilestone.requireGradeCounts.B-  \\\n",
       "0                        0                                        1.0   \n",
       "\n",
       "   nextSeasonMilestone.requireGradeCounts.C-  nextSeasonMilestone.rewardMarks  \\\n",
       "0                                          4                                1   \n",
       "\n",
       "   nextSeasonMilestone.bonus nextSeasonMilestone.rewardConfig.rewardValue  \\\n",
       "0                      False         5f4333db-e90d-4705-903b-08dbf5e61006   \n",
       "\n",
       "  nextSeasonMilestone.rewardConfig.rewardType  \\\n",
       "0                               HEXTECH_CHEST   \n",
       "\n",
       "   nextSeasonMilestone.rewardConfig.maximumReward  \\\n",
       "0                                             6.0   \n",
       "\n",
       "   nextSeasonMilestone.totalGamesRequires milestoneGrades  \\\n",
       "0                                       5             NaN   \n",
       "\n",
       "   nextSeasonMilestone.requireGradeCounts.A-  \n",
       "0                                        NaN  "
      ]
     },
     "execution_count": 320,
     "metadata": {},
     "output_type": "execute_result"
    }
   ],
   "source": [
    "endpoint = f\"https://la2.api.riotgames.com/lol/champion-mastery/v4/champion-masteries/by-puuid/{puuid}\"\n",
    "\n",
    "res = requests.get(endpoint, params=params)\n",
    "data = res.json()\n",
    "\n",
    "df_champions_mastery = pd.json_normalize(data)\n",
    "\n",
    "df_champions_mastery.head(1)\n"
   ]
  },
  {
   "cell_type": "markdown",
   "metadata": {},
   "source": [
    "GET THE LAST 20 MATCHES:\n",
    "1- FIRST I GET THE MATCHES IDs.\n",
    "2- SINCE FROM THOSE IDs, I CAN GET MATCHES DATA "
   ]
  },
  {
   "cell_type": "code",
   "execution_count": null,
   "metadata": {},
   "outputs": [],
   "source": [
    "endpoint = f\"https://americas.api.riotgames.com/lol/match/v5/matches/by-puuid/{puuid}/ids\"\n",
    "\n",
    "res = requests.get(endpoint, params=params)\n",
    "matches_id = res.json()\n",
    "\n",
    "matches_id\n",
    "\n",
    "matches = []\n",
    "for matchId in matches_id:\n",
    "    endpoint = f\"https://americas.api.riotgames.com/lol/match/v5/matches/{matchId}\"\n",
    "    \n",
    "    res = requests.get(endpoint, params=params)\n",
    "    matches.append(res.json())\n",
    "    \n",
    "df_matches = pd.json_normalize(matches)"
   ]
  },
  {
   "cell_type": "code",
   "execution_count": 326,
   "metadata": {},
   "outputs": [
    {
     "data": {
      "text/html": [
       "<div>\n",
       "<style scoped>\n",
       "    .dataframe tbody tr th:only-of-type {\n",
       "        vertical-align: middle;\n",
       "    }\n",
       "\n",
       "    .dataframe tbody tr th {\n",
       "        vertical-align: top;\n",
       "    }\n",
       "\n",
       "    .dataframe thead th {\n",
       "        text-align: right;\n",
       "    }\n",
       "</style>\n",
       "<table border=\"1\" class=\"dataframe\">\n",
       "  <thead>\n",
       "    <tr style=\"text-align: right;\">\n",
       "      <th></th>\n",
       "      <th>metadata.dataVersion</th>\n",
       "      <th>metadata.matchId</th>\n",
       "      <th>info.endOfGameResult</th>\n",
       "      <th>info.gameCreation</th>\n",
       "      <th>info.gameDuration</th>\n",
       "      <th>info.gameEndTimestamp</th>\n",
       "      <th>info.gameId</th>\n",
       "      <th>info.gameMode</th>\n",
       "      <th>info.gameName</th>\n",
       "      <th>info.gameStartTimestamp</th>\n",
       "      <th>info.gameType</th>\n",
       "      <th>info.gameVersion</th>\n",
       "      <th>info.mapId</th>\n",
       "      <th>info.platformId</th>\n",
       "      <th>info.queueId</th>\n",
       "      <th>info.tournamentCode</th>\n",
       "    </tr>\n",
       "  </thead>\n",
       "  <tbody>\n",
       "    <tr>\n",
       "      <th>0</th>\n",
       "      <td>2</td>\n",
       "      <td>LA2_1460246484</td>\n",
       "      <td>GameComplete</td>\n",
       "      <td>1731212021831</td>\n",
       "      <td>971</td>\n",
       "      <td>1731213098902</td>\n",
       "      <td>1460246484</td>\n",
       "      <td>CLASSIC</td>\n",
       "      <td>teambuilder-match-1460246484</td>\n",
       "      <td>1731212127539</td>\n",
       "      <td>MATCHED_GAME</td>\n",
       "      <td>14.22.633.1362</td>\n",
       "      <td>11</td>\n",
       "      <td>LA2</td>\n",
       "      <td>420</td>\n",
       "      <td></td>\n",
       "    </tr>\n",
       "  </tbody>\n",
       "</table>\n",
       "</div>"
      ],
      "text/plain": [
       "  metadata.dataVersion metadata.matchId info.endOfGameResult  \\\n",
       "0                    2   LA2_1460246484         GameComplete   \n",
       "\n",
       "   info.gameCreation  info.gameDuration  info.gameEndTimestamp  info.gameId  \\\n",
       "0      1731212021831                971          1731213098902   1460246484   \n",
       "\n",
       "  info.gameMode                 info.gameName  info.gameStartTimestamp  \\\n",
       "0       CLASSIC  teambuilder-match-1460246484            1731212127539   \n",
       "\n",
       "  info.gameType info.gameVersion  info.mapId info.platformId  info.queueId  \\\n",
       "0  MATCHED_GAME   14.22.633.1362          11             LA2           420   \n",
       "\n",
       "  info.tournamentCode  \n",
       "0                      "
      ]
     },
     "execution_count": 326,
     "metadata": {},
     "output_type": "execute_result"
    }
   ],
   "source": [
    "df_matches.head(1)"
   ]
  },
  {
   "cell_type": "markdown",
   "metadata": {},
   "source": [
    "MATCHES DETAILS"
   ]
  },
  {
   "cell_type": "code",
   "execution_count": 324,
   "metadata": {},
   "outputs": [],
   "source": [
    "df_matches_details = df_matches[[\"metadata.matchId\", \"metadata.participants\",\"info.participants\",\"info.teams\"]]\n",
    "\n",
    "df_matches = df_matches.drop(columns=[\"metadata.participants\",\"info.participants\",\"info.teams\"])"
   ]
  },
  {
   "cell_type": "code",
   "execution_count": 325,
   "metadata": {},
   "outputs": [
    {
     "data": {
      "text/html": [
       "<div>\n",
       "<style scoped>\n",
       "    .dataframe tbody tr th:only-of-type {\n",
       "        vertical-align: middle;\n",
       "    }\n",
       "\n",
       "    .dataframe tbody tr th {\n",
       "        vertical-align: top;\n",
       "    }\n",
       "\n",
       "    .dataframe thead th {\n",
       "        text-align: right;\n",
       "    }\n",
       "</style>\n",
       "<table border=\"1\" class=\"dataframe\">\n",
       "  <thead>\n",
       "    <tr style=\"text-align: right;\">\n",
       "      <th></th>\n",
       "      <th>metadata.matchId</th>\n",
       "      <th>metadata.participants</th>\n",
       "      <th>info.participants</th>\n",
       "      <th>info.teams</th>\n",
       "    </tr>\n",
       "  </thead>\n",
       "  <tbody>\n",
       "    <tr>\n",
       "      <th>0</th>\n",
       "      <td>LA2_1460246484</td>\n",
       "      <td>[lmY9N2GCcOkNkiEn2FCEcUSbMx0njx137z_JYJ70BjGq5...</td>\n",
       "      <td>[{'allInPings': 0, 'assistMePings': 1, 'assist...</td>\n",
       "      <td>[{'bans': [{'championId': 910, 'pickTurn': 1},...</td>\n",
       "    </tr>\n",
       "  </tbody>\n",
       "</table>\n",
       "</div>"
      ],
      "text/plain": [
       "  metadata.matchId                              metadata.participants  \\\n",
       "0   LA2_1460246484  [lmY9N2GCcOkNkiEn2FCEcUSbMx0njx137z_JYJ70BjGq5...   \n",
       "\n",
       "                                   info.participants  \\\n",
       "0  [{'allInPings': 0, 'assistMePings': 1, 'assist...   \n",
       "\n",
       "                                          info.teams  \n",
       "0  [{'bans': [{'championId': 910, 'pickTurn': 1},...  "
      ]
     },
     "execution_count": 325,
     "metadata": {},
     "output_type": "execute_result"
    }
   ],
   "source": [
    "df_matches_details.head(1)"
   ]
  },
  {
   "cell_type": "markdown",
   "metadata": {},
   "source": [
    "GET SUMMONER RANKING BY SUMMONER ID"
   ]
  },
  {
   "cell_type": "code",
   "execution_count": 327,
   "metadata": {},
   "outputs": [
    {
     "data": {
      "text/html": [
       "<div>\n",
       "<style scoped>\n",
       "    .dataframe tbody tr th:only-of-type {\n",
       "        vertical-align: middle;\n",
       "    }\n",
       "\n",
       "    .dataframe tbody tr th {\n",
       "        vertical-align: top;\n",
       "    }\n",
       "\n",
       "    .dataframe thead th {\n",
       "        text-align: right;\n",
       "    }\n",
       "</style>\n",
       "<table border=\"1\" class=\"dataframe\">\n",
       "  <thead>\n",
       "    <tr style=\"text-align: right;\">\n",
       "      <th></th>\n",
       "      <th>leagueId</th>\n",
       "      <th>queueType</th>\n",
       "      <th>tier</th>\n",
       "      <th>rank</th>\n",
       "      <th>summonerId</th>\n",
       "      <th>leaguePoints</th>\n",
       "      <th>wins</th>\n",
       "      <th>losses</th>\n",
       "      <th>veteran</th>\n",
       "      <th>inactive</th>\n",
       "      <th>freshBlood</th>\n",
       "      <th>hotStreak</th>\n",
       "    </tr>\n",
       "  </thead>\n",
       "  <tbody>\n",
       "    <tr>\n",
       "      <th>0</th>\n",
       "      <td>6d220f29-c66d-4999-8bee-fc750c55fb2e</td>\n",
       "      <td>RANKED_SOLO_5x5</td>\n",
       "      <td>PLATINUM</td>\n",
       "      <td>III</td>\n",
       "      <td>lJDYoZSk-rtpKy1UnGV65cDlknAvnLOq8uvnGRFFCjIwHw</td>\n",
       "      <td>60</td>\n",
       "      <td>6</td>\n",
       "      <td>3</td>\n",
       "      <td>False</td>\n",
       "      <td>False</td>\n",
       "      <td>False</td>\n",
       "      <td>False</td>\n",
       "    </tr>\n",
       "    <tr>\n",
       "      <th>1</th>\n",
       "      <td>67df7375-00af-4a4f-9282-761ec6d3ca50</td>\n",
       "      <td>RANKED_FLEX_SR</td>\n",
       "      <td>EMERALD</td>\n",
       "      <td>IV</td>\n",
       "      <td>lJDYoZSk-rtpKy1UnGV65cDlknAvnLOq8uvnGRFFCjIwHw</td>\n",
       "      <td>71</td>\n",
       "      <td>4</td>\n",
       "      <td>7</td>\n",
       "      <td>False</td>\n",
       "      <td>False</td>\n",
       "      <td>False</td>\n",
       "      <td>False</td>\n",
       "    </tr>\n",
       "  </tbody>\n",
       "</table>\n",
       "</div>"
      ],
      "text/plain": [
       "                               leagueId        queueType      tier rank  \\\n",
       "0  6d220f29-c66d-4999-8bee-fc750c55fb2e  RANKED_SOLO_5x5  PLATINUM  III   \n",
       "1  67df7375-00af-4a4f-9282-761ec6d3ca50   RANKED_FLEX_SR   EMERALD   IV   \n",
       "\n",
       "                                       summonerId  leaguePoints  wins  losses  \\\n",
       "0  lJDYoZSk-rtpKy1UnGV65cDlknAvnLOq8uvnGRFFCjIwHw            60     6       3   \n",
       "1  lJDYoZSk-rtpKy1UnGV65cDlknAvnLOq8uvnGRFFCjIwHw            71     4       7   \n",
       "\n",
       "   veteran  inactive  freshBlood  hotStreak  \n",
       "0    False     False       False      False  \n",
       "1    False     False       False      False  "
      ]
     },
     "execution_count": 327,
     "metadata": {},
     "output_type": "execute_result"
    }
   ],
   "source": [
    "endpoint = f\"https://la2.api.riotgames.com/lol/league/v4/entries/by-summoner/{summ_id}\"\n",
    "\n",
    "res = requests.get(endpoint, params=params)\n",
    "\n",
    "data = res.json()\n",
    "\n",
    "df_ranking = pd.json_normalize(data)\n",
    "\n",
    "df_ranking"
   ]
  },
  {
   "cell_type": "markdown",
   "metadata": {},
   "source": [
    "GET ITEMS LIST"
   ]
  },
  {
   "cell_type": "code",
   "execution_count": 328,
   "metadata": {},
   "outputs": [],
   "source": [
    "endpoint = 'https://ddragon.leagueoflegends.com/cdn/14.23.1/data/en_US/item.json'\n",
    "\n",
    "res = requests.get(endpoint)\n",
    "data = res.json()\n",
    "\n",
    "item_list=[]\n",
    "for id, data in data['data'].items():\n",
    "    item={\n",
    "        'id':id,\n",
    "        'name':data['name'],\n",
    "        'description':data['description'],\n",
    "        'colloq':data['colloq'],\n",
    "        'plaintext':data['plaintext'],\n",
    "        'into':data.get('into'),\n",
    "        'image':data['image'],\n",
    "        'gold':data['gold'],\n",
    "        'tags':data['tags'],\n",
    "        'maps':data['maps'],\n",
    "        'stats':data['stats']\n",
    "    }\n",
    "    item_list.append(item)\n",
    "    \n",
    "df_items = pd.DataFrame(item_list)"
   ]
  },
  {
   "cell_type": "code",
   "execution_count": 329,
   "metadata": {},
   "outputs": [
    {
     "data": {
      "text/html": [
       "<div>\n",
       "<style scoped>\n",
       "    .dataframe tbody tr th:only-of-type {\n",
       "        vertical-align: middle;\n",
       "    }\n",
       "\n",
       "    .dataframe tbody tr th {\n",
       "        vertical-align: top;\n",
       "    }\n",
       "\n",
       "    .dataframe thead th {\n",
       "        text-align: right;\n",
       "    }\n",
       "</style>\n",
       "<table border=\"1\" class=\"dataframe\">\n",
       "  <thead>\n",
       "    <tr style=\"text-align: right;\">\n",
       "      <th></th>\n",
       "      <th>id</th>\n",
       "      <th>name</th>\n",
       "      <th>description</th>\n",
       "      <th>colloq</th>\n",
       "      <th>plaintext</th>\n",
       "      <th>into</th>\n",
       "      <th>image</th>\n",
       "      <th>gold</th>\n",
       "      <th>tags</th>\n",
       "      <th>maps</th>\n",
       "      <th>stats</th>\n",
       "    </tr>\n",
       "  </thead>\n",
       "  <tbody>\n",
       "    <tr>\n",
       "      <th>0</th>\n",
       "      <td>1001</td>\n",
       "      <td>Boots</td>\n",
       "      <td>&lt;mainText&gt;&lt;stats&gt;&lt;attention&gt;25&lt;/attention&gt; Mov...</td>\n",
       "      <td>;</td>\n",
       "      <td>Slightly increases Move Speed</td>\n",
       "      <td>[3005, 3047, 3006, 3009, 3010, 3020, 3111, 311...</td>\n",
       "      <td>{'full': '1001.png', 'sprite': 'item0.png', 'g...</td>\n",
       "      <td>{'base': 300, 'purchasable': True, 'total': 30...</td>\n",
       "      <td>[Boots]</td>\n",
       "      <td>{'11': True, '12': True, '21': True, '22': Fal...</td>\n",
       "      <td>{'FlatMovementSpeedMod': 25}</td>\n",
       "    </tr>\n",
       "  </tbody>\n",
       "</table>\n",
       "</div>"
      ],
      "text/plain": [
       "     id   name                                        description colloq  \\\n",
       "0  1001  Boots  <mainText><stats><attention>25</attention> Mov...      ;   \n",
       "\n",
       "                       plaintext  \\\n",
       "0  Slightly increases Move Speed   \n",
       "\n",
       "                                                into  \\\n",
       "0  [3005, 3047, 3006, 3009, 3010, 3020, 3111, 311...   \n",
       "\n",
       "                                               image  \\\n",
       "0  {'full': '1001.png', 'sprite': 'item0.png', 'g...   \n",
       "\n",
       "                                                gold     tags  \\\n",
       "0  {'base': 300, 'purchasable': True, 'total': 30...  [Boots]   \n",
       "\n",
       "                                                maps  \\\n",
       "0  {'11': True, '12': True, '21': True, '22': Fal...   \n",
       "\n",
       "                          stats  \n",
       "0  {'FlatMovementSpeedMod': 25}  "
      ]
     },
     "execution_count": 329,
     "metadata": {},
     "output_type": "execute_result"
    }
   ],
   "source": [
    "df_items.head(1)"
   ]
  },
  {
   "cell_type": "markdown",
   "metadata": {},
   "source": [
    "**LOAD RAW DATA TO DATA LAKE (S3)**"
   ]
  },
  {
   "cell_type": "markdown",
   "metadata": {},
   "source": [
    "CREATING S3 CLIENT"
   ]
  },
  {
   "cell_type": "code",
   "execution_count": 330,
   "metadata": {},
   "outputs": [],
   "source": [
    "s3_client = boto3.client('s3', region_name='us-east-1')"
   ]
  },
  {
   "cell_type": "markdown",
   "metadata": {},
   "source": [
    "CREATING BUCKET"
   ]
  },
  {
   "cell_type": "code",
   "execution_count": 331,
   "metadata": {},
   "outputs": [
    {
     "data": {
      "text/plain": [
       "{'ResponseMetadata': {'RequestId': 'BK2WSJ5KJHQ2K617',\n",
       "  'HostId': 'WSfqvczvWPd/2Bqm1DquaHaplSdPyW6ISdcee3Mq2CEcJ6xSU3sDUcB6zHL4JqPMd/ZmrfFYLfg=',\n",
       "  'HTTPStatusCode': 200,\n",
       "  'HTTPHeaders': {'x-amz-id-2': 'WSfqvczvWPd/2Bqm1DquaHaplSdPyW6ISdcee3Mq2CEcJ6xSU3sDUcB6zHL4JqPMd/ZmrfFYLfg=',\n",
       "   'x-amz-request-id': 'BK2WSJ5KJHQ2K617',\n",
       "   'date': 'Wed, 27 Nov 2024 18:18:26 GMT',\n",
       "   'location': '/mylolapibucket1',\n",
       "   'content-length': '0',\n",
       "   'server': 'AmazonS3'},\n",
       "  'RetryAttempts': 0},\n",
       " 'Location': '/mylolapibucket1'}"
      ]
     },
     "execution_count": 331,
     "metadata": {},
     "output_type": "execute_result"
    }
   ],
   "source": [
    "#CREATING A BUCKET\n",
    "s3_client.create_bucket(ACL='private', Bucket='mylolapibucket1')"
   ]
  },
  {
   "cell_type": "markdown",
   "metadata": {},
   "source": [
    "LOADING DATA"
   ]
  },
  {
   "cell_type": "code",
   "execution_count": 332,
   "metadata": {},
   "outputs": [],
   "source": [
    "#PATH\n",
    "s3_path = f\"lol_data/{datetime.date.today().strftime('%Y-%m-%d')}\"\n",
    "\n",
    "upload_dataframe_to_s3(s3_client, df_summoner, f\"{s3_path}/summoner.parquet\", \"mylolapibucket1\")\n",
    "upload_dataframe_to_s3(s3_client, df_ranking, f\"{s3_path}/ranking.parquet\", \"mylolapibucket1\")\n",
    "upload_dataframe_to_s3(s3_client, df_champions, f\"{s3_path}/champions.parquet\", \"mylolapibucket1\")\n",
    "upload_dataframe_to_s3(s3_client, df_champions_mastery, f\"{s3_path}/champions_mastery.parquet\", \"mylolapibucket1\")\n",
    "upload_dataframe_to_s3(s3_client, df_matches, f\"{s3_path}/matches.parquet\", \"mylolapibucket1\")\n",
    "upload_dataframe_to_s3(s3_client, df_matches_details, f\"{s3_path}/matches_details.parquet\", \"mylolapibucket1\")\n",
    "upload_dataframe_to_s3(s3_client, df_items, f\"{s3_path}/items.parquet\", \"mylolapibucket1\")"
   ]
  },
  {
   "cell_type": "markdown",
   "metadata": {},
   "source": [
    "**TRANSFORMATION**"
   ]
  },
  {
   "cell_type": "code",
   "execution_count": 4,
   "metadata": {},
   "outputs": [],
   "source": [
    "from pyspark.sql import SparkSession\n",
    "from pyspark.sql.functions import col, lit, from_unixtime, explode, concat_ws, round, regexp_replace, when, monotonically_increasing_id\n",
    "import findspark"
   ]
  },
  {
   "cell_type": "markdown",
   "metadata": {},
   "source": [
    "CREATING SPARK SESSION"
   ]
  },
  {
   "cell_type": "code",
   "execution_count": 5,
   "metadata": {},
   "outputs": [],
   "source": [
    "findspark.init()\n",
    "spark_session = SparkSession.builder \\\n",
    "                                    .appName(\"LOL_API_MODERN_DATAWAREHOUSE\") \\\n",
    "                                    .config(\"spark.driver.memory\", \"12g\") \\\n",
    "                                    .getOrCreate()"
   ]
  },
  {
   "cell_type": "markdown",
   "metadata": {},
   "source": [
    "GETTING PARQUETS FROM DATA LAKE (S3)"
   ]
  },
  {
   "cell_type": "code",
   "execution_count": 334,
   "metadata": {},
   "outputs": [],
   "source": [
    "df_summoner_spark = spark_session.read.parquet(download_files_from_s3(s3_client, 'mylolapibucket1', f\"{s3_path}/summoner.parquet\"))\n",
    "df_ranking_spark = spark_session.read.parquet(download_files_from_s3(s3_client, 'mylolapibucket1', f\"{s3_path}/ranking.parquet\"))\n",
    "df_champions_spark = spark_session.read.parquet(download_files_from_s3(s3_client, 'mylolapibucket1', f\"{s3_path}/champions.parquet\"))\n",
    "df_champions_mastery_spark = spark_session.read.parquet(download_files_from_s3(s3_client, 'mylolapibucket1', f\"{s3_path}/champions_mastery.parquet\"))\n",
    "df_matches_spark = spark_session.read.parquet(download_files_from_s3(s3_client, 'mylolapibucket1', f\"{s3_path}/matches.parquet\"))\n",
    "df_matches_details_spark = spark_session.read.parquet(download_files_from_s3(s3_client, 'mylolapibucket1', f\"{s3_path}/matches_details.parquet\"))\n",
    "df_items_spark = spark_session.read.parquet(download_files_from_s3(s3_client, 'mylolapibucket1', f\"{s3_path}/items.parquet\"))"
   ]
  },
  {
   "cell_type": "markdown",
   "metadata": {},
   "source": [
    "SUMMONER TRANSFORM"
   ]
  },
  {
   "cell_type": "code",
   "execution_count": 64,
   "metadata": {},
   "outputs": [],
   "source": [
    "#JOIN SUMMONER DF AND RANKING DF\n",
    "df_summoner_spark = df_summoner_spark.join(df_ranking_spark, on=df_summoner_spark[\"id\"] == df_ranking_spark[\"summonerId\"])\n",
    "df_summoner_spark = df_summoner_spark.drop(\"id\")\n",
    "\n",
    "#CONVERT UNIX TIMESTAMP TO DATE\n",
    "df_summoner_spark = df_summoner_spark.withColumn(\"revisionDate\", from_unixtime(col(\"revisionDate\") / 1000).cast(\"timestamp\"))\n",
    "\n",
    "columns = df_summoner_spark.columns\n",
    "\n",
    "summoner_puuid = columns.index(\"puuid\")\n",
    "summoner_summonerId = columns.index(\"summonerId\")\n",
    "\n",
    "columns[summoner_puuid], columns[summoner_summonerId] = columns[summoner_summonerId], columns[summoner_puuid]\n",
    "\n",
    "df_summoner_spark = df_summoner_spark.select(columns)\n",
    "\n",
    "#ORDERING\n",
    "df_summoner_spark = df_summoner_spark.select(\"puuid\",\"summonerId\",\"accountId\",\"leagueId\",\"gameName\",\"tagLine\",\n",
    "                                             \"summonerLevel\",\"queueType\",\"tier\",\"rank\",\"leaguePoints\",\"wins\",\n",
    "                                             \"losses\",\"veteran\",\"inactive\",\"freshBlood\",\"hotStreak\",\"revisionDate\")"
   ]
  },
  {
   "cell_type": "code",
   "execution_count": 65,
   "metadata": {},
   "outputs": [
    {
     "name": "stdout",
     "output_type": "stream",
     "text": [
      "+--------------------+--------------------+--------------------+--------------------+--------+-------+-------------+---------------+--------+----+------------+----+------+-------+--------+----------+---------+-------------------+\n",
      "|               puuid|          summonerId|           accountId|            leagueId|gameName|tagLine|summonerLevel|      queueType|    tier|rank|leaguePoints|wins|losses|veteran|inactive|freshBlood|hotStreak|       revisionDate|\n",
      "+--------------------+--------------------+--------------------+--------------------+--------+-------+-------------+---------------+--------+----+------------+----+------+-------+--------+----------+---------+-------------------+\n",
      "|rybLSc_KZF6-IQ8HC...|lJDYoZSk-rtpKy1Un...|3SsoFKJ2HArAyEROZ...|6d220f29-c66d-499...|  TATIAN|    LAS|          362|RANKED_SOLO_5x5|PLATINUM| III|          60|   6|     3|  false|   false|     false|    false|2024-11-10 01:31:42|\n",
      "|rybLSc_KZF6-IQ8HC...|lJDYoZSk-rtpKy1Un...|3SsoFKJ2HArAyEROZ...|67df7375-00af-4a4...|  TATIAN|    LAS|          362| RANKED_FLEX_SR| EMERALD|  IV|          71|   4|     7|  false|   false|     false|    false|2024-11-10 01:31:42|\n",
      "+--------------------+--------------------+--------------------+--------------------+--------+-------+-------------+---------------+--------+----+------------+----+------+-------+--------+----------+---------+-------------------+\n",
      "\n"
     ]
    }
   ],
   "source": [
    "df_summoner_spark.show()"
   ]
  },
  {
   "cell_type": "markdown",
   "metadata": {},
   "source": [
    "CHAMPIONS TRANSFORM"
   ]
  },
  {
   "cell_type": "code",
   "execution_count": 66,
   "metadata": {},
   "outputs": [],
   "source": [
    "#LIST TO STRING\n",
    "df_champions_spark = df_champions_spark.withColumn(\"tags\", concat_ws(\", \", col(\"tags\")))\n",
    "\n",
    "#EXPLODE INFO FIELD\n",
    "df_champions_spark = df_champions_spark.select(\"*\",\n",
    "                                                 col(\"info.attack\").alias(\"attack\"),\n",
    "                                                 col(\"info.defense\").alias(\"defense\"),\n",
    "                                                 col(\"info.magic\").alias(\"magic\"),\n",
    "                                                 col(\"info.difficulty\").alias(\"difficulty\"),\n",
    "                                                 col(\"stats.hp\").alias(\"hp\"),\n",
    "                                                 col(\"stats.hpperlevel\").alias(\"hpPerLevel\"),\n",
    "                                                 col(\"stats.mp\").alias(\"mp\"),\n",
    "                                                 col(\"stats.mpperlevel\").alias(\"mpPerLevel\"),\n",
    "                                                 col(\"stats.movespeed\").alias(\"moveSpeed\"),\n",
    "                                                 col(\"stats.armor\").alias(\"armor\"),\n",
    "                                                 col(\"stats.armorperlevel\").alias(\"armorPerLevel\"),\n",
    "                                                 col(\"stats.spellblock\").alias(\"spellBlock\"),\n",
    "                                                 col(\"stats.spellblockperlevel\").alias(\"spellBlockPerLevel\"),\n",
    "                                                 col(\"stats.attackrange\").alias(\"attackRange\"),\n",
    "                                                 col(\"stats.hpregen\").alias(\"hpRegen\"),\n",
    "                                                 col(\"stats.hpregenperlevel\").alias(\"hpRegenPerLevel\"),\n",
    "                                                 col(\"stats.mpregen\").alias(\"mpRegen\"),\n",
    "                                                 col(\"stats.mpregenperlevel\").alias(\"mpRegenPerLevel\"),\n",
    "                                                 col(\"stats.crit\").alias(\"crit\"),\n",
    "                                                 col(\"stats.critperlevel\").alias(\"critPerLevel\"),\n",
    "                                                 col(\"stats.attackdamage\").alias(\"attackDamage\"),\n",
    "                                                 col(\"stats.attackdamageperlevel\").alias(\"attackDamagePerLevel\"),\n",
    "                                                 col(\"stats.attackspeedperlevel\").alias(\"attackSpeedPerLevel\"),\n",
    "                                                 col(\"stats.attackspeed\").alias(\"attackSpeed\"))\n",
    "\n",
    "df_champions_spark = df_champions_spark.drop(\"info\", \"image\", \"stats\", \"id\")\n",
    "\n",
    "df_champions_spark = df_champions_spark.withColumnRenamed(\"key\", \"championId\")\n",
    "\n",
    "df_champions_spark = df_champions_spark.withColumn(\"partype\", when(col(\"partype\") == \"\", \"None\").otherwise(col(\"partype\")))\n",
    "\n",
    "df_champions_spark = df_champions_spark.withColumn(\"championId\", col(\"championId\").cast(\"long\"))"
   ]
  },
  {
   "cell_type": "code",
   "execution_count": 67,
   "metadata": {},
   "outputs": [
    {
     "name": "stdout",
     "output_type": "stream",
     "text": [
      "+-------+----------+------+----------------+---------------------------------------------------------------------------------------------------------------------------------------------------------------------------------------------------------------------------------------------------------------+-------+----------+------+-------+-----+----------+---+----------+---+----------+---------+-----+-------------+----------+------------------+-----------+-------+---------------+-------+---------------+----+------------+------------+--------------------+-------------------+-----------+\n",
      "|version|championId|name  |title           |blurb                                                                                                                                                                                                                                                          |tags   |partype   |attack|defense|magic|difficulty|hp |hpPerLevel|mp |mpPerLevel|moveSpeed|armor|armorPerLevel|spellBlock|spellBlockPerLevel|attackRange|hpRegen|hpRegenPerLevel|mpRegen|mpRegenPerLevel|crit|critPerLevel|attackDamage|attackDamagePerLevel|attackSpeedPerLevel|attackSpeed|\n",
      "+-------+----------+------+----------------+---------------------------------------------------------------------------------------------------------------------------------------------------------------------------------------------------------------------------------------------------------------+-------+----------+------+-------+-----+----------+---+----------+---+----------+---------+-----+-------------+----------+------------------+-----------+-------+---------------+-------+---------------+----+------------+------------+--------------------+-------------------+-----------+\n",
      "|14.22.1|266       |Aatrox|the Darkin Blade|Once honored defenders of Shurima against the Void, Aatrox and his brethren would eventually become an even greater threat to Runeterra, and were defeated only by cunning mortal sorcery. But after centuries of imprisonment, Aatrox was the first to find...|Fighter|Blood Well|8     |4      |3    |4         |650|114       |0  |0.0       |345      |38   |4.8          |32        |2.05              |175        |3.0    |0.5            |0.0    |0.0            |0   |0           |60          |5.0                 |2.5                |0.651      |\n",
      "+-------+----------+------+----------------+---------------------------------------------------------------------------------------------------------------------------------------------------------------------------------------------------------------------------------------------------------------+-------+----------+------+-------+-----+----------+---+----------+---+----------+---------+-----+-------------+----------+------------------+-----------+-------+---------------+-------+---------------+----+------------+------------+--------------------+-------------------+-----------+\n",
      "only showing top 1 row\n",
      "\n"
     ]
    }
   ],
   "source": [
    "df_champions_spark.show(1,truncate=False)"
   ]
  },
  {
   "cell_type": "markdown",
   "metadata": {},
   "source": [
    "CHAMPIONS MASTERY TRANSFORM"
   ]
  },
  {
   "cell_type": "code",
   "execution_count": 68,
   "metadata": {},
   "outputs": [],
   "source": [
    "df_champions_mastery_spark = df_champions_mastery_spark.withColumn(\"lastPlayTime\", from_unixtime(col(\"lastPlayTime\") / 1000).cast(\"timestamp\"))\n",
    "\n",
    "df_champions_mastery_spark = df_champions_mastery_spark.drop(\"championPointsSinceLastLevel\",\n",
    "                                                             \"championPointsUntilNextLevel\",\n",
    "                                                             \"markRequiredForNextLevel\",\n",
    "                                                             \"tokensEarned\",\n",
    "                                                             \"championSeasonMilestone\",\n",
    "                                                             \"nextSeasonMilestone.requireGradeCounts.B-\",\n",
    "                                                             \"nextSeasonMilestone.requireGradeCounts.C-\",\n",
    "                                                             \"nextSeasonMilestone.rewardMarks\",\n",
    "                                                             \"nextSeasonMilestone.bonus\",\n",
    "                                                             \"nextSeasonMilestone.rewardConfig.rewardValue\",\n",
    "                                                             \"nextSeasonMilestone.rewardConfig.rewardType\",\n",
    "                                                             \"nextSeasonMilestone.rewardConfig.maximumReward\",\n",
    "                                                             \"nextSeasonMilestone.totalGamesRequires\",\n",
    "                                                             \"milestoneGrades\",\n",
    "                                                             \"nextSeasonMilestone.requireGradeCounts.A-\")"
   ]
  },
  {
   "cell_type": "code",
   "execution_count": 69,
   "metadata": {},
   "outputs": [
    {
     "name": "stdout",
     "output_type": "stream",
     "text": [
      "+------------------------------------------------------------------------------+----------+-------------+--------------+-------------------+\n",
      "|puuid                                                                         |championId|championLevel|championPoints|lastPlayTime       |\n",
      "+------------------------------------------------------------------------------+----------+-------------+--------------+-------------------+\n",
      "|rybLSc_KZF6-IQ8HCLMML90_kvd00YLW5DE0ruoXGgZF2PZHM8e-C6NFI9ejEKb-p2aKQkB9p6JJ0w|64        |32           |372982        |2024-05-31 01:45:55|\n",
      "+------------------------------------------------------------------------------+----------+-------------+--------------+-------------------+\n",
      "only showing top 1 row\n",
      "\n"
     ]
    }
   ],
   "source": [
    "df_champions_mastery_spark.show(1, truncate=False)"
   ]
  },
  {
   "cell_type": "markdown",
   "metadata": {},
   "source": [
    "MATCHES TRANSFORM"
   ]
  },
  {
   "cell_type": "code",
   "execution_count": 70,
   "metadata": {},
   "outputs": [],
   "source": [
    "df_matches_spark = df_matches_spark.withColumnsRenamed({\"metadata.dataVersion\":\"dataVersion\",\n",
    "                                                        \"metadata.matchId\":\"matchId\",\n",
    "                                                        \"info.endOfGameResult\":\"endOfGameResult\",\n",
    "                                                        \"info.gameCreation\":\"gameCreation\",\n",
    "                                                        \"info.gameEndTimestamp\":\"gameEndTimestamp\",\n",
    "                                                        \"info.gameDuration\":\"gameDuration(mins)\",\n",
    "                                                        \"info.gameId\":\"gameId\",\n",
    "                                                        \"info.gameMode\":\"gameMode\",\n",
    "                                                        \"info.gameName\":\"gameName\",\n",
    "                                                        \"info.gameStartTimestamp\":\"gameStartTimestamp\",\n",
    "                                                        \"info.gameType\":\"gameType\",\n",
    "                                                        \"info.gameVersion\":\"gameVersion\",\n",
    "                                                        \"info.mapId\":\"mapId\",\n",
    "                                                        \"info.platformId\":\"platformId\",\n",
    "                                                        \"info.queueId\":\"queueId\",\n",
    "                                                        \"info.tournamentCode\":\"tournamentCode\",\n",
    "                                                        })\n",
    "\n",
    "df_matches_spark = df_matches_spark.withColumn(\"gameCreation\", from_unixtime(col(\"gameCreation\") / 1000).cast(\"timestamp\"))\n",
    "df_matches_spark = df_matches_spark.withColumn(\"gameEndTimestamp\", from_unixtime(col(\"gameEndTimestamp\") / 1000).cast(\"timestamp\"))\n",
    "df_matches_spark = df_matches_spark.withColumn(\"gameStartTimestamp\", from_unixtime(col(\"gameStartTimestamp\") / 1000).cast(\"timestamp\"))\n",
    "df_matches_spark = df_matches_spark.withColumn(\"gameDuration(mins)\", round((col(\"gameDuration(mins)\") / 60).cast(\"double\"), 2))\n",
    "\n",
    "df_matches_spark = df_matches_spark.drop(\"tournamentCode\")"
   ]
  },
  {
   "cell_type": "code",
   "execution_count": 71,
   "metadata": {},
   "outputs": [
    {
     "name": "stdout",
     "output_type": "stream",
     "text": [
      "+-----------+--------------+---------------+-------------------+------------------+-------------------+----------+--------+----------------------------+-------------------+------------+--------------+-----+----------+-------+\n",
      "|dataVersion|matchId       |endOfGameResult|gameCreation       |gameDuration(mins)|gameEndTimestamp   |gameId    |gameMode|gameName                    |gameStartTimestamp |gameType    |gameVersion   |mapId|platformId|queueId|\n",
      "+-----------+--------------+---------------+-------------------+------------------+-------------------+----------+--------+----------------------------+-------------------+------------+--------------+-----+----------+-------+\n",
      "|2          |LA2_1460246484|GameComplete   |2024-11-10 01:13:41|16.18             |2024-11-10 01:31:38|1460246484|CLASSIC |teambuilder-match-1460246484|2024-11-10 01:15:27|MATCHED_GAME|14.22.633.1362|11   |LA2       |420    |\n",
      "+-----------+--------------+---------------+-------------------+------------------+-------------------+----------+--------+----------------------------+-------------------+------------+--------------+-----+----------+-------+\n",
      "only showing top 1 row\n",
      "\n"
     ]
    }
   ],
   "source": [
    "df_matches_spark.show(1, truncate=False)"
   ]
  },
  {
   "cell_type": "markdown",
   "metadata": {},
   "source": [
    "MATCHES DETAILS TRANSFORM"
   ]
  },
  {
   "cell_type": "code",
   "execution_count": 60,
   "metadata": {},
   "outputs": [],
   "source": [
    "df_matches_details_spark = df_matches_details_spark.withColumnsRenamed({\"metadata.matchId\":\"matchId\",\n",
    "                                                                        \"metadata.participants\":\"participant_id\",\n",
    "                                                                        \"info.participants\":\"participant_info\",\n",
    "                                                                        \"info.teams\":\"infoTeams\"})\n",
    "\n",
    "#METADATA PARTICIPANTS EXPLODE\n",
    "participants = df_matches_details_spark.select(\"matchId\", \"participant_id\")\n",
    "participants = participants.withColumn(\"participant_id\", explode(\"participant_id\"))\n",
    "\n",
    "#PARTICIPANTS INFO EXPLODE\n",
    "participants_info = df_matches_details_spark.select(\"participant_info\")\n",
    "participants_info = participants_info.withColumn(\"participant_info\", explode(\"participant_info\"))\n",
    "participants_info = participants_info.select(\"*\", col(\"participant_info.puuid\").alias(\"puuid\"),\n",
    "                                                  col(\"participant_info.summonerId\").alias(\"summonerId\"),\n",
    "                                                  col(\"participant_info.teamId\").alias(\"teamId\"),\n",
    "                                                  col(\"participant_info.summonerName\").alias(\"summonerName\"),\n",
    "                                                  col(\"participant_info.summonerLevel\").alias(\"summonerLevel\"),\n",
    "                                                  col(\"participant_info.win\").alias(\"win\"),\n",
    "                                                  col(\"participant_info.lane\").alias(\"lane\"),\n",
    "                                                  col(\"participant_info.role\").alias(\"role\"),\n",
    "                                                  col(\"participant_info.teamPosition\").alias(\"teamPosition\"),\n",
    "                                                  col(\"participant_info.individualPosition\").alias(\"individualPosition\"),\n",
    "                                                  col(\"participant_info.championId\").alias(\"championId\"),\n",
    "                                                  col(\"participant_info.championName\").alias(\"championName\"),\n",
    "                                                  col(\"participant_info.champLevel\").alias(\"champLevel\"),\n",
    "                                                  col(\"participant_info.kills\").alias(\"kills\"),\n",
    "                                                  col(\"participant_info.deaths\").alias(\"deaths\"),\n",
    "                                                  col(\"participant_info.assists\").alias(\"assists\"),\n",
    "                                                  col(\"participant_info.totalMinionsKilled\").alias(\"totalMinionsKilled\"),\n",
    "                                                  col(\"participant_info.goldEarned\").alias(\"goldEarned\"),\n",
    "                                                  col(\"participant_info.goldSpent\").alias(\"goldSpent\"),\n",
    "                                                  col(\"participant_info.timePlayed\").alias(\"timePlayed\"),\n",
    "                                                  col(\"participant_info.doubleKills\").alias(\"doubleKills\"),\n",
    "                                                  col(\"participant_info.tripleKills\").alias(\"tripleKills\"),\n",
    "                                                  col(\"participant_info.quadraKills\").alias(\"quadraKills\"),\n",
    "                                                  col(\"participant_info.pentaKills\").alias(\"pentaKills\"),\n",
    "                                                  col(\"participant_info.killingSprees\").alias(\"killingSprees\"),\n",
    "                                                  col(\"participant_info.visionScore\").alias(\"visionScore\"),\n",
    "                                                  col(\"participant_info.dragonKills\").alias(\"dragonKills\"),\n",
    "                                                  col(\"participant_info.turretKills\").alias(\"turretKills\"),\n",
    "                                                  col(\"participant_info.inhibitorKills\").alias(\"inhibitorKills\"),\n",
    "                                                  col(\"participant_info.nexusKills\").alias(\"nexusKills\"),\n",
    "                                                  col(\"participant_info.inhibitorTakedowns\").alias(\"inhibitorTakedowns\"),\n",
    "                                                  col(\"participant_info.inhibitorsLost\").alias(\"inhibitorsLost\"),\n",
    "                                                  col(\"participant_info.objectivesStolen\").alias(\"objectivesStolen\"),\n",
    "                                                  col(\"participant_info.item0\").alias(\"item0\"),\n",
    "                                                  col(\"participant_info.item1\").alias(\"item1\"),\n",
    "                                                  col(\"participant_info.item2\").alias(\"item2\"),\n",
    "                                                  col(\"participant_info.item3\").alias(\"item3\"),\n",
    "                                                  col(\"participant_info.item4\").alias(\"item4\"),\n",
    "                                                  col(\"participant_info.item5\").alias(\"item5\"),\n",
    "                                                  col(\"participant_info.item6\").alias(\"item6\"))\n",
    "participants_info = participants_info.withColumn(\"timePlayed\", round(col(\"participant_info.timePlayed\") / 60, 2))\n",
    "participants_info = participants_info.withColumnRenamed(\"timePlayed\", \"timePlayed(mins)\")\n",
    "participants_info = participants_info.drop(\"participant_info\")\n",
    "\n",
    "#EXPLODE INFOTEAMS TO GET BANS\n",
    "info_teams = df_matches_details_spark.select(\"infoTeams\")\n",
    "bans = info_teams.withColumn(\"bans\", col(\"infoTeams.bans\").alias(\"bans\"))\n",
    "bans = bans.withColumn(\"bans\", explode(\"bans\"))\n",
    "bans = bans.withColumn(\"banChampionId\", col(\"bans.championId\").alias(\"championId\"))\n",
    "bans = bans.withColumn(\"banChampionId\", explode(\"banChampionId\"))\n",
    "bans = bans.drop(\"infoTeams\",\"bans\")\n",
    "\n",
    "\n",
    "\n",
    "#JOIN MATCHES_DETAILS AND BANS\n",
    "participants = participants.withColumn(\"id\", monotonically_increasing_id())\n",
    "participants_info = participants_info.withColumn(\"id\", monotonically_increasing_id())\n",
    "bans = bans.withColumn(\"id\", monotonically_increasing_id())\n",
    "df_matches_details_spark = df_matches_details_spark.withColumn(\"id\", monotonically_increasing_id())\n",
    "\n",
    "df_matches_details_spark = df_matches_details_spark.drop(\"matchId\", \"participant_id\", \"participant_info\", \"infoTeams\")\n",
    "\n",
    "df_matches_details_spark = df_matches_details_spark.join(participants, on=\"id\")\\\n",
    "                                                   .join(participants_info, on=\"id\")\\\n",
    "                                                   .join(bans, on=\"id\")\n",
    "                                                   \n",
    "df_matches_details_spark = df_matches_details_spark.withColumnRenamed(\"participant_id\", \"participantId\")\n",
    "\n",
    "cols_to_select = [\n",
    "    'puuid',\n",
    "    'summonerId',\n",
    "    'participantId',\n",
    "    'matchId',\n",
    "    'teamId',\n",
    "    'summonerName',\n",
    "    'summonerLevel',\n",
    "    'win',\n",
    "    'lane',\n",
    "    'role',\n",
    "    'teamPosition',\n",
    "    'individualPosition',\n",
    "    'championId',\n",
    "    'championName',\n",
    "    'champLevel',\n",
    "    'kills',\n",
    "    'deaths',\n",
    "    'assists',\n",
    "    'banChampionId',\n",
    "    'totalMinionsKilled',\n",
    "    'goldEarned',\n",
    "    'goldSpent',\n",
    "    'timePlayed(mins)',\n",
    "    'doubleKills',\n",
    "    'tripleKills',\n",
    "    'quadraKills',\n",
    "    'pentaKills',\n",
    "    'killingSprees',\n",
    "    'visionScore',\n",
    "    'dragonKills',\n",
    "    'turretKills',\n",
    "    'inhibitorKills',\n",
    "    'nexusKills',\n",
    "    'inhibitorTakedowns',\n",
    "    'inhibitorsLost',\n",
    "    'objectivesStolen',\n",
    "    'item0',\n",
    "    'item1',\n",
    "    'item2',\n",
    "    'item3',\n",
    "    'item4',\n",
    "    'item5',\n",
    "    'item6'\n",
    "]\n",
    "\n",
    "df_matches_details_spark = df_matches_details_spark.select(cols_to_select)"
   ]
  },
  {
   "cell_type": "code",
   "execution_count": 61,
   "metadata": {},
   "outputs": [
    {
     "name": "stdout",
     "output_type": "stream",
     "text": [
      "+------------------------------------------------------------------------------+----------------------------------------------+------------------------------------------------------------------------------+--------------+------+------------+-------------+-----+----+-------+------------+------------------+----------+------------+----------+-----+------+-------+-------------+------------------+----------+---------+----------------+-----------+-----------+-----------+----------+-------------+-----------+-----------+-----------+--------------+----------+------------------+--------------+----------------+-----+-----+-----+-----+-----+-----+-----+\n",
      "|puuid                                                                         |summonerId                                    |participantId                                                                 |matchId       |teamId|summonerName|summonerLevel|win  |lane|role   |teamPosition|individualPosition|championId|championName|champLevel|kills|deaths|assists|banChampionId|totalMinionsKilled|goldEarned|goldSpent|timePlayed(mins)|doubleKills|tripleKills|quadraKills|pentaKills|killingSprees|visionScore|dragonKills|turretKills|inhibitorKills|nexusKills|inhibitorTakedowns|inhibitorsLost|objectivesStolen|item0|item1|item2|item3|item4|item5|item6|\n",
      "+------------------------------------------------------------------------------+----------------------------------------------+------------------------------------------------------------------------------+--------------+------+------------+-------------+-----+----+-------+------------+------------------+----------+------------+----------+-----+------+-------+-------------+------------------+----------+---------+----------------+-----------+-----------+-----------+----------+-------------+-----------+-----------+-----------+--------------+----------+------------------+--------------+----------------+-----+-----+-----+-----+-----+-----+-----+\n",
      "|lmY9N2GCcOkNkiEn2FCEcUSbMx0njx137z_JYJ70BjGq5-PUuWBZqmLLxLE4JEzwHI8t9yYVYZ3Low|1JLzMTj7dWeIr72ffAVtpjtvv_M84CQBatIevvda0OTGIw|lmY9N2GCcOkNkiEn2FCEcUSbMx0njx137z_JYJ70BjGq5-PUuWBZqmLLxLE4JEzwHI8t9yYVYZ3Low|LA2_1460246484|100   |EltotoPA    |308          |false|NONE|SUPPORT|TOP         |TOP               |82        |Mordekaiser |11        |4    |2     |2      |910          |82                |5873      |5575     |16.18           |1          |0          |0          |0         |1            |14         |0          |0          |0             |0         |0                 |0             |0               |3116 |3076 |0    |3047 |1056 |0    |3340 |\n",
      "+------------------------------------------------------------------------------+----------------------------------------------+------------------------------------------------------------------------------+--------------+------+------------+-------------+-----+----+-------+------------+------------------+----------+------------+----------+-----+------+-------+-------------+------------------+----------+---------+----------------+-----------+-----------+-----------+----------+-------------+-----------+-----------+-----------+--------------+----------+------------------+--------------+----------------+-----+-----+-----+-----+-----+-----+-----+\n",
      "only showing top 1 row\n",
      "\n"
     ]
    }
   ],
   "source": [
    "df_matches_details_spark.show(1, truncate=False)"
   ]
  },
  {
   "cell_type": "markdown",
   "metadata": {},
   "source": [
    "ITEMS TRANSFORM"
   ]
  },
  {
   "cell_type": "code",
   "execution_count": 62,
   "metadata": {},
   "outputs": [],
   "source": [
    "df_items_spark = df_items_spark.select(\"id\", \"name\", \"description\", \"plaintext\", \"into\", \"gold\", \"stats\")\n",
    "\n",
    "df_items_spark = df_items_spark.select(\"*\",\n",
    "                                       col(\"gold.base\").alias(\"goldBase\"),\n",
    "                                       col(\"gold.total\").alias(\"goldTotal\"),\n",
    "                                       col(\"gold.sell\").alias(\"goldSell\"),\n",
    "                                       col(\"stats.FlatArmorMod\").alias(\"statFlatArmorMod\"),\n",
    "                                       col(\"stats.FlatCritChanceMod\").alias(\"statFlatCritChanceMod\"),\n",
    "                                       col(\"stats.FlatHPPoolMod\").alias(\"statFlatHPPoolMod\"),\n",
    "                                       col(\"stats.FlatHPRegenMod\").alias(\"statFlatHPRegenMod\"),\n",
    "                                       col(\"stats.FlatMPPoolMod\").alias(\"statFlatMPPoolMod\"),\n",
    "                                       col(\"stats.FlatMagicDamageMod\").alias(\"statFlatMagicDamageMod\"),\n",
    "                                       col(\"stats.FlatMovementSpeedMod\").alias(\"statFlatMovementSpeedMod\"),\n",
    "                                       col(\"stats.FlatPhysicalDamageMod\").alias(\"statFlatPhysicalDamageMod\"),\n",
    "                                       col(\"stats.FlatSpellBlockMod\").alias(\"statFlatSpellBlockMod\"),\n",
    "                                       col(\"stats.PercentAttackSpeedMod\").alias(\"statPercentAttackSpeedMod\"),\n",
    "                                       col(\"stats.PercentLifeStealMod\").alias(\"statPercentLifeStealMod\"),\n",
    "                                       col(\"stats.PercentMovementSpeedMod\").alias(\"statPercentMovementSpeedMod\"),\n",
    "                                       )\n",
    "\n",
    "df_items_spark = df_items_spark.na.fill(0.0,subset=[\"statFlatArmorMod\",\n",
    "                                                \"statFlatCritChanceMod\",\n",
    "                                                \"statFlatHPPoolMod\",\n",
    "                                                \"statFlatHPRegenMod\",\n",
    "                                                \"statFlatMPPoolMod\",\n",
    "                                                \"statFlatMagicDamageMod\",\n",
    "                                                \"statFlatMovementSpeedMod\",\n",
    "                                                \"statFlatPhysicalDamageMod\",\n",
    "                                                \"statFlatSpellBlockMod\",\n",
    "                                                \"statPercentAttackSpeedMod\",\n",
    "                                                \"statPercentLifeStealMod\",\n",
    "                                                \"statPercentMovementSpeedMod\"])\n",
    "\n",
    "df_items_spark = df_items_spark.drop(\"gold\", \"stats\")\n",
    "\n",
    "df_items_spark = df_items_spark.withColumn(\"into\", concat_ws(\", \", \"into\"))\n",
    "\n",
    "df_items_spark = df_items_spark.withColumn('plaintext', when(col('plaintext') == '', \"None\").otherwise(col('plaintext')))\n",
    "df_items_spark = df_items_spark.withColumn('into', when(col('into') == '', \"None\").otherwise(col('into')))\n",
    "\n",
    "df_items_spark = df_items_spark.withColumn(\"description\", regexp_replace(\"description\", \"<[^>]+>\", \"\"))"
   ]
  },
  {
   "cell_type": "code",
   "execution_count": 63,
   "metadata": {},
   "outputs": [
    {
     "name": "stdout",
     "output_type": "stream",
     "text": [
      "+----+-----+-------------+-----------------------------+----------------------------------------------------+--------+---------+--------+----------------+---------------------+-----------------+------------------+-----------------+----------------------+------------------------+-------------------------+---------------------+-------------------------+-----------------------+---------------------------+\n",
      "|id  |name |description  |plaintext                    |into                                                |goldBase|goldTotal|goldSell|statFlatArmorMod|statFlatCritChanceMod|statFlatHPPoolMod|statFlatHPRegenMod|statFlatMPPoolMod|statFlatMagicDamageMod|statFlatMovementSpeedMod|statFlatPhysicalDamageMod|statFlatSpellBlockMod|statPercentAttackSpeedMod|statPercentLifeStealMod|statPercentMovementSpeedMod|\n",
      "+----+-----+-------------+-----------------------------+----------------------------------------------------+--------+---------+--------+----------------+---------------------+-----------------+------------------+-----------------+----------------------+------------------------+-------------------------+---------------------+-------------------------+-----------------------+---------------------------+\n",
      "|1001|Boots|25 Move Speed|Slightly increases Move Speed|3005, 3047, 3006, 3009, 3010, 3020, 3111, 3117, 3158|300     |300      |210     |0               |0.0                  |0                |0.0               |0                |0                     |25                      |0                        |0                    |0.0                      |0.0                    |0.0                        |\n",
      "+----+-----+-------------+-----------------------------+----------------------------------------------------+--------+---------+--------+----------------+---------------------+-----------------+------------------+-----------------+----------------------+------------------------+-------------------------+---------------------+-------------------------+-----------------------+---------------------------+\n",
      "only showing top 1 row\n",
      "\n"
     ]
    }
   ],
   "source": [
    "df_items_spark.show(1,truncate=False)"
   ]
  },
  {
   "cell_type": "code",
   "execution_count": 59,
   "metadata": {},
   "outputs": [],
   "source": [
    "df_summoner_spark = spark_session.read.parquet(\"C:/Users/Sebastian Esnaola/Desktop/LoL_Data/summoner.parquet\")\n",
    "df_ranking_spark = spark_session.read.parquet(\"C:/Users/Sebastian Esnaola/Desktop/LoL_Data/ranking.parquet\")\n",
    "df_champions_spark = spark_session.read.parquet(\"C:/Users/Sebastian Esnaola/Desktop/LoL_Data/champions.parquet\")\n",
    "df_champions_mastery_spark = spark_session.read.parquet(\"C:/Users/Sebastian Esnaola/Desktop/LoL_Data/champions_mastery.parquet\")\n",
    "df_matches_spark = spark_session.read.parquet(\"C:/Users/Sebastian Esnaola/Desktop/LoL_Data/matches.parquet\")\n",
    "df_matches_details_spark = spark_session.read.parquet(\"C:/Users/Sebastian Esnaola/Desktop/LoL_Data/matches_details.parquet\")\n",
    "df_items_spark = spark_session.read.parquet(\"C:/Users/Sebastian Esnaola/Desktop/LoL_Data/items.parquet\")"
   ]
  }
 ],
 "metadata": {
  "kernelspec": {
   "display_name": "venv",
   "language": "python",
   "name": "python3"
  },
  "language_info": {
   "codemirror_mode": {
    "name": "ipython",
    "version": 3
   },
   "file_extension": ".py",
   "mimetype": "text/x-python",
   "name": "python",
   "nbconvert_exporter": "python",
   "pygments_lexer": "ipython3",
   "version": "3.10.11"
  }
 },
 "nbformat": 4,
 "nbformat_minor": 2
}
